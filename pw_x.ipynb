{
 "cells": [
  {
   "cell_type": "markdown",
   "id": "e5cf2bd1",
   "metadata": {},
   "source": [
    "# DFT SCF Step (PW.X)"
   ]
  },
  {
   "cell_type": "code",
   "execution_count": 63,
   "id": "c4b7b5e7",
   "metadata": {
    "ExecuteTime": {
     "end_time": "2023-03-19T04:16:47.995062Z",
     "start_time": "2023-03-19T04:16:45.403949Z"
    }
   },
   "outputs": [
    {
     "data": {
      "text/html": [
       "<style>\n",
       ".header{\n",
       "    background-color:#dedede;\n",
       "    padding: 10px;\n",
       "}\n",
       ".main {\n",
       "    border: solid 1px;\n",
       "}\n",
       "\n",
       ".tab {\n",
       "    border: 0px;\n",
       "}\n",
       "</style>\n"
      ],
      "text/plain": [
       "<IPython.core.display.HTML object>"
      ]
     },
     "metadata": {},
     "output_type": "display_data"
    }
   ],
   "source": [
    "### Import libraries\n",
    "\n",
    "import numpy as np\n",
    "from ipywidgets import Tab, Box, VBox, GridBox, Layout\n",
    "from ipywidgets import Label, IntText, FloatText, Dropdown, Text, Textarea\n",
    "import os\n",
    "%run styles.ipynb\n",
    "%run color_changer.ipynb"
   ]
  },
  {
   "cell_type": "markdown",
   "id": "4a160b34",
   "metadata": {},
   "source": [
    "## Control Tab"
   ]
  },
  {
   "cell_type": "code",
   "execution_count": 64,
   "id": "4a357d4b",
   "metadata": {
    "ExecuteTime": {
     "end_time": "2023-03-19T04:16:48.078877Z",
     "start_time": "2023-03-19T04:16:48.004843Z"
    }
   },
   "outputs": [
    {
     "data": {
      "application/vnd.jupyter.widget-view+json": {
       "model_id": "885a8854c81c41c08836738e640742e6",
       "version_major": 2,
       "version_minor": 0
      },
      "text/plain": [
       "Box(children=(Box(children=(Label(value='Material Prefix'), Text(value='si', layout=Layout(width='35%'))), lay…"
      ]
     },
     "execution_count": 64,
     "metadata": {},
     "output_type": "execute_result"
    }
   ],
   "source": [
    "\n",
    "         \n",
    "material_prefix = Text(name=\"Material Prefix\", value=\"si\", layout=input_layout(35))\n",
    "restart_mode = Dropdown(name=\"Restart Mode\", value=\"from_scratch\", options=[\"from_scratch\", \"restart\"], layout=input_layout(35))\n",
    "pseudo_dir = Text(name=\"Pseudopotential File Directory\", value=\"./\", layout=input_layout(35))\n",
    "outdir = Text(name=\"Current Directory\", value=\"./\", layout=input_layout(35))\n",
    "max_runtime = FloatText(name='Max Run Time (Seconds)', value=10000000, layout=input_layout(35))\n",
    "\n",
    "#Observers\n",
    "material_prefix.observe(change_color,names='value')\n",
    "pseudo_dir.observe(change_color,names='value')\n",
    "outdir.observe(change_color,names='value')\n",
    "#max_runtime.observe(change_color,names='value')\n",
    "\n",
    "form_items = [\n",
    "    Box([Label(value='Material Prefix'), material_prefix], layout=form_item_layout()),\n",
    "    Box([Label(value='Restart Mode'), restart_mode], layout=form_item_layout()),\n",
    "    Box([Label(value='Pseudopotential File Directory'), pseudo_dir], layout=form_item_layout()),\n",
    "    Box([Label(value='Current Directory'), outdir], layout=form_item_layout()),\n",
    "    Box([Label(value='Max Run Time (Seconds)'), max_runtime], layout=form_item_layout())\n",
    "]\n",
    "\n",
    "controls_box = Box(form_items, layout=box_layout(35))\n",
    "                   \n",
    "controls_box"
   ]
  },
  {
   "cell_type": "markdown",
   "id": "28037f05",
   "metadata": {},
   "source": [
    "## System Tab"
   ]
  },
  {
   "cell_type": "code",
   "execution_count": 59,
   "id": "08986a6c",
   "metadata": {
    "ExecuteTime": {
     "end_time": "2023-03-19T04:16:48.164716Z",
     "start_time": "2023-03-19T04:16:48.081595Z"
    }
   },
   "outputs": [
    {
     "data": {
      "application/vnd.jupyter.widget-view+json": {
       "model_id": "ab5d1c2f432d45cf8bc846e5e64a4b36",
       "version_major": 2,
       "version_minor": 0
      },
      "text/plain": [
       "Box(children=(Box(children=(Label(value='Bravals-lattice Index'), Dropdown(layout=Layout(width='30%'), options…"
      ]
     },
     "execution_count": 59,
     "metadata": {},
     "output_type": "execute_result"
    }
   ],
   "source": [
    "# Create System form\n",
    "\n",
    "ibrav = Dropdown(name=\"Bravals-lattice index\", \n",
    "                 value=0, \n",
    "                 options={\"0\":0,\"1\":1,\"2\":2,\"3\":3,\"-3\":-3,\"4\":4,\"5\":5,\"-5\":-5,\"6\":6,\"7\":7,\"8\":8,\"9\":9,\"10\":10,\"11\":11,\"12\":12,\"-12\":-12,\"13\":13,\"-13\":-13,\"14\":14},\n",
    "                 layout=input_layout(30)\n",
    ")\n",
    "celldm_1 = FloatText(name=\"Crystallographic Constant\",value=10.2094, layout=input_layout(30))\n",
    "\n",
    "nat = FloatText(name=\"Number of atoms in the cell system\" ,value=1, layout=input_layout(30))\n",
    "\n",
    "ntyp = FloatText(name=\"Number of Types of Atoms\",value=1, layout=input_layout(30))\n",
    "\n",
    "ecutwfc = FloatText(name=\"Wavefunction Kinetic NRG Cutoff (Ry)\",min=25.0,max=100.0,value=25.0, layout=input_layout(30))\n",
    "\n",
    "form_items = [\n",
    "    Box([Label(value='Bravals-lattice Index'), ibrav], layout=form_item_layout()),\n",
    "    Box([Label(value='Crystallographic Constant'), celldm_1], layout=form_item_layout()),\n",
    "    Box([Label(value='Number of atoms in the cell system'), nat], layout=form_item_layout()),\n",
    "    Box([Label(value='Number of Types of Atoms'), ntyp], layout=form_item_layout()),\n",
    "    Box([Label(value='Wavefunction Kinetic NRG Cutoff (Ry)'), ecutwfc], layout=form_item_layout())\n",
    "]\n",
    "\n",
    "system_box = Box(form_items, layout=box_layout(40))\n",
    "\n",
    "system_box"
   ]
  },
  {
   "cell_type": "markdown",
   "id": "0fe1e639",
   "metadata": {},
   "source": [
    "## Electrons"
   ]
  },
  {
   "cell_type": "code",
   "execution_count": 66,
   "id": "7f4e5deb",
   "metadata": {
    "ExecuteTime": {
     "end_time": "2023-03-19T04:16:48.277452Z",
     "start_time": "2023-03-19T04:16:48.166942Z"
    }
   },
   "outputs": [
    {
     "data": {
      "application/vnd.jupyter.widget-view+json": {
       "model_id": "166f4d676fd340cdbfa286ba91a47fe1",
       "version_major": 2,
       "version_minor": 0
      },
      "text/plain": [
       "Box(children=(Box(children=(Label(value='Diagonalization'), Dropdown(layout=Layout(width='30%'), options=('dav…"
      ]
     },
     "execution_count": 66,
     "metadata": {},
     "output_type": "execute_result"
    }
   ],
   "source": [
    "# Electrons\n",
    "\n",
    "diagonalization = Dropdown(name=\"Diagonalization\",value=\"david\",\n",
    "                           options=[\"david\", \"cg\", \"ppcg\", \"paro\", \"rmm-davison\"],\n",
    "                           layout=input_layout(30)\n",
    "                          )                        \n",
    "\n",
    "mixing_beta = FloatText(name=\"Mixing Beta\",value=0.70,layout=input_layout(30))\n",
    "\n",
    "\n",
    "con_threshold = FloatText(name=\"Convergence Threshold\",value=1.0e-13,layout=input_layout(30))\n",
    "\n",
    "atom = Text(name=\"Atom\",value=\"\",layout=Layout(width=\"30%\"))\n",
    "\n",
    "atomic_mass = FloatText(name=\"Atomic Mass\",value=28.0855, layout=Layout(width=\"30%\"))\n",
    "\n",
    "pseudo_filename = Text(name=\"Pseudopotential File Name\",\n",
    "                       value='../data/pseudopotentials/sg15_oncv_upf_2jun20/Si_ONCV_PBE-1.2.upf',\n",
    "                      layout=input_layout(50)\n",
    "                      )   \n",
    "atomic_coord_type = Dropdown(name=\"Atomic Coordinate Type\",options= ['alat','crystal','cartesian'],value= 'alat',\n",
    "                          layout=input_layout(30)\n",
    "                            )\n",
    "\n",
    "#observers\n",
    "atom.observe(change_color,names='value')\n",
    "pseudo_filename.observe(change_color,names='value')\n",
    "form_items = [\n",
    "    Box([Label(value='Diagonalization'), diagonalization], layout=form_item_layout()),\n",
    "    Box([Label(value='Mixing Beta'), mixing_beta], layout=form_item_layout()),\n",
    "    Box([Label(value='Convergence Threshold'), con_threshold], layout=form_item_layout()),\n",
    "    Box([Label(value='Atom'), atom], layout=form_item_layout()),\n",
    "    Box([Label(value='Atomic Mass'), atomic_mass], layout=form_item_layout()),\n",
    "    Box([Label(value='Pseudopotential File name'), pseudo_filename], layout=form_item_layout()),\n",
    "    Box([Label(value='Atomic Coordinate Type'), atomic_coord_type], layout=form_item_layout())\n",
    "]\n",
    "\n",
    "## UI\n",
    "electrons_box = Box(form_items, layout=box_layout(40))\n",
    "\n",
    "\n",
    "electrons_box"
   ]
  },
  {
   "cell_type": "markdown",
   "id": "3fed97da",
   "metadata": {},
   "source": [
    "## K Points"
   ]
  },
  {
   "cell_type": "code",
   "execution_count": 67,
   "id": "2f39b195",
   "metadata": {
    "ExecuteTime": {
     "end_time": "2023-03-19T04:16:48.407127Z",
     "start_time": "2023-03-19T04:16:48.279435Z"
    }
   },
   "outputs": [
    {
     "data": {
      "application/vnd.jupyter.widget-view+json": {
       "model_id": "fa3acac4132f468b8f179ebefcbbe19a",
       "version_major": 2,
       "version_minor": 0
      },
      "text/plain": [
       "Box(children=(Box(children=(Label(value='K Point Type'), Dropdown(layout=Layout(width='30%'), options=('tplba'…"
      ]
     },
     "execution_count": 67,
     "metadata": {},
     "output_type": "execute_result"
    }
   ],
   "source": [
    "# K Points\n",
    "\n",
    "# option for method of specifying k point grid\n",
    "kpoint_type = Dropdown(name=\"K Point Type\", value=\"tplba\", options=[\"tplba\", \"automatic\",\"crystal\"],\n",
    "                      layout=input_layout(30))                  \n",
    "\n",
    "# kpoints in 100 crystal direction, for sampling periodic cell in reciprocal space in the electronic structure calculation\n",
    "kptx = IntText(name=\"kptx\", value=6, layout=input_layout(30))\n",
    "\n",
    "# kpoints in 010 crystal direction, for sampling periodic cell in reciprocal space in the electronic structure calculation\n",
    "kpty = IntText(name=\"kpty\", value= 6, layout=input_layout(30))\n",
    "\n",
    "# kpoints in 001 crystal direction, for sampling periodic cell in reciprocal space in the electronic structure calculation\n",
    "kptz= IntText(name=\"kptz\", value= 6, layout=input_layout(30))\n",
    "\n",
    "# offset for kpoints in 100 crystal direction\n",
    "offset_x= IntText(name=\"offsetx\", value= 0, layout=input_layout(30))\n",
    "\n",
    "# offset for kpoints in 010 crystal direction\n",
    "offset_y= IntText(name=\"offsety\", value= 0, layout=input_layout(30))\n",
    "\n",
    "# offset for kpoints in 001 crystal direction\n",
    "offset_z= IntText(name=\"offsetz\", value= 0, layout=input_layout(30))\n",
    "\n",
    "left_section = GridBox(\n",
    "    [\n",
    "        Box([Label(value='kptx'), kptx], layout=form_item_layout()),\n",
    "        Box([Label(value='kpty'), kpty], layout=form_item_layout()),\n",
    "        Box([Label(value='kptz'), kptz], layout=form_item_layout()),\n",
    "    ]\n",
    ")\n",
    "\n",
    "right_section = GridBox(\n",
    "    [\n",
    "        Box([Label(value='offsetx'), offset_x], layout=form_item_layout()),\n",
    "        Box([Label(value='offsety'), offset_y], layout=form_item_layout()),\n",
    "        Box([Label(value='offsetz'), offset_z], layout=form_item_layout()),\n",
    "    ]\n",
    ")\n",
    "\n",
    "combined_section = GridBox([left_section, right_section], \n",
    "                           layout=Layout(grid_template_columns=\"repeat(2,25%)\", grid_gap=\"35px\"))\n",
    "\n",
    "row_item_layout = Layout(\n",
    "    display='flex',\n",
    "    flex_flow='row',\n",
    "    justify_content='space-between',\n",
    "    width='25%'\n",
    ")\n",
    "\n",
    "kpoints_box = Box(\n",
    "    [ \n",
    "        Box([Label(value=\"K Point Type\"), kpoint_type], layout=row_item_layout),\n",
    "        combined_section\n",
    "    ],\n",
    "    layout=box_layout(100))\n",
    "    \n",
    "\n",
    "\n",
    "kpoints_box"
   ]
  },
  {
   "cell_type": "markdown",
   "id": "4d9b3203",
   "metadata": {},
   "source": [
    "### Combine UI forms for this section"
   ]
  },
  {
   "cell_type": "code",
   "execution_count": 68,
   "id": "0a425937",
   "metadata": {
    "ExecuteTime": {
     "end_time": "2023-03-19T04:16:48.489417Z",
     "start_time": "2023-03-19T04:16:48.429237Z"
    },
    "scrolled": true
   },
   "outputs": [
    {
     "data": {
      "application/vnd.jupyter.widget-view+json": {
       "model_id": "823d2bac052041719b714c2d7062fe07",
       "version_major": 2,
       "version_minor": 0
      },
      "text/plain": [
       "Tab(children=(Box(children=(Box(children=(Label(value='Material Prefix'), Text(value='', layout=Layout(border_…"
      ]
     },
     "execution_count": 68,
     "metadata": {},
     "output_type": "execute_result"
    }
   ],
   "source": [
    "pw_x_tabs = Tab()\n",
    "tab_contents = [controls_box, system_box, electrons_box, kpoints_box]\n",
    "pw_x_tabs.children = tab_contents\n",
    "\n",
    "pw_x_tabs.set_title(0, \"Control\")\n",
    "pw_x_tabs.set_title(1, \"System\")\n",
    "pw_x_tabs.set_title(2, \"Electrons\")\n",
    "pw_x_tabs.set_title(3, \"K Points\")\n",
    "\n",
    "pw_x_tabs\n"
   ]
  },
  {
   "cell_type": "markdown",
   "id": "f76e107a",
   "metadata": {},
   "source": [
    "## NON USER INPUTS"
   ]
  },
  {
   "cell_type": "code",
   "execution_count": 69,
   "id": "4a90b909",
   "metadata": {},
   "outputs": [],
   "source": [
    "#input parameters\n",
    "#&control\n",
    "wf_collect = '.true'\n",
    "etot_conv_thr = 1e-4\n",
    "\n",
    "#&system\n",
    "\n",
    "nbnd_flag = 0\n",
    "nbnd = 4\n",
    "nosym = '.false.'\n",
    "\n",
    "#&electrons\n",
    "\n",
    "psName = 'Si_ONCV_PBE-1.2.upf'\n",
    "\n",
    "cellparam_coordinate_type = 'alat'\n",
    "cellparam_list = [0.0,0.0,0.0,0.25,0.25,0.25,0.5,0.5,0.5]\n",
    "\n",
    "atom_list = ['Si',0.0,0.0,0.0,'Si',0.25,0.25,0.25]\n",
    "\n",
    "atom_array = np.array(atom_list)\n",
    "atom_splits = np.split(atom_array,nat.value)\n",
    "join_line = [' '.join(i) for i in atom_splits]\n",
    "atomic_positions = '\\n'.join(join_line)\n",
    "\n",
    "search_sym = {\n",
    "    \"desc\": \"option for turning off automatic symmetry search, useful for defect cells\",\n",
    "    \"type\": \"Text\",\n",
    "    \"value\": 'true' \n",
    "}\n",
    "\n",
    "pw_cores = 20\n",
    "pw_walltime = '00:05:00'\n"
   ]
  },
  {
   "cell_type": "markdown",
   "id": "de2120c7",
   "metadata": {},
   "source": [
    "### Bind inputs to outputs"
   ]
  },
  {
   "cell_type": "code",
   "execution_count": 70,
   "id": "0d18814c",
   "metadata": {
    "ExecuteTime": {
     "end_time": "2023-03-19T04:16:48.414342Z",
     "start_time": "2023-03-19T04:16:48.409097Z"
    }
   },
   "outputs": [],
   "source": [
    "def bind_PW_X_inputs(self):\n",
    "\n",
    "    scf_inputs = {\n",
    "        'material_prefix': material_prefix.value,\n",
    "        'restart_mode': restart_mode.value,\n",
    "        'wf_collect': wf_collect,\n",
    "        'pseudo_dir': pseudo_dir.value,\n",
    "        'outdir': outdir.value,\n",
    "        'max_seconds': max_runtime.value,\n",
    "        'etot_conv_thr': etot_conv_thr,\n",
    "        'ibrav': ibrav.value,\n",
    "        'celldm_1': celldm_1.value,\n",
    "        'nat': nat.value,\n",
    "        'ntyp': ntyp.value,\n",
    "        'ecutwfc': ecutwfc.value,\n",
    "        'nosym': nosym,\n",
    "        'diagonalization': diagonalization.value,\n",
    "        'mixing_beta': mixing_beta.value,\n",
    "        'conv_thr': con_threshold.value,\n",
    "        'atom': atom.value,\n",
    "        'atomic_mass': atomic_mass.value,\n",
    "        'psName': psName,\n",
    "        'coordinate_type': atomic_coord_type.value,\n",
    "        'atomic_positions': atomic_positions,\n",
    "        'kptx': kptx.value,\n",
    "        'kpty': kpty.value,\n",
    "        'kptz': kptz.value,\n",
    "        'offsetx': offset_x.value,\n",
    "        'offsety': offset_y.value,\n",
    "        'offsetz': offset_z.value\n",
    "    }\n",
    "    \n",
    "    if ibrav.value == 0:\n",
    "        cellparam_strings = [str(i) for i in cellparam_list]\n",
    "        cellparam_array = np.array(cellparam_strings)\n",
    "        cellparam_splits = np.split(cellparam_array,3)\n",
    "        join_line = [' '.join(i) for i in cellparam_splits]\n",
    "        cell_parameters = '\\n'.join(join_line)\n",
    "    \n",
    "        scf_inputs['cellparam_coordinate_type'] = cellparam_coordinate_type\n",
    "        scf_inputs['cell_parameters'] = cell_parameters\n",
    "    \n",
    "    \n",
    "    build_PW_Input(scf_inputs, material_prefix.value)    "
   ]
  },
  {
   "cell_type": "code",
   "execution_count": 71,
   "id": "8e1aa5fb",
   "metadata": {
    "ExecuteTime": {
     "end_time": "2023-03-19T04:16:48.425958Z",
     "start_time": "2023-03-19T04:16:48.421647Z"
    }
   },
   "outputs": [],
   "source": [
    "def build_PW_Input(scf_inputs, material_prefix):\n",
    "    print('BUILDING PW INPUT FILE')\n",
    "    #Build pw input file\n",
    "    scf_name = 'scf-%s.in' % material_prefix #assigns pw input file to variable pw_name \n",
    "\n",
    "    if ibrav.value == 0:\n",
    "        input_file = '''\n",
    "        &control                                                                                                                                                                                     \n",
    "        calculation = 'scf'                                                                                                                                                                         \n",
    "        prefix = '{material_prefix}'                                                                                                                                                                                \n",
    "\n",
    "        restart_mode = '{restart_mode}'                                                                                                                                                               \n",
    "        wf_collect = .true.                                                                                                                                                                          \n",
    "        verbosity = 'high'                                                                                                                                                                           \n",
    "        outdir = './'\n",
    "        max_seconds = {max_seconds}\n",
    "        etot_conv_thr = {etot_conv_thr}\n",
    "        pseudo_dir = './'\n",
    "        /                                                                                                                                                                                            \n",
    "        &system                                                                                                                                                                                      \n",
    "        ibrav = {ibrav}                                                                                                                                                                                    \n",
    "        celldm(1) = {celldm_1}                                                                                                                                                                           \n",
    "        nat = {nat}                                                                                                                                                                                      \n",
    "        ntyp = {ntyp}                                                                                                                                                                                                                                                                                                                                                                          \n",
    "        ecutwfc = {ecutwfc} \n",
    "        nosym = {nosym}\n",
    "        /                                                                                                                                                                                            \n",
    "        &electrons                                                                                                                                                                                   \n",
    "        diagonalization = '{diagonalization}'                                                                                                                                                                  \n",
    "        mixing_beta = {mixing_beta}                                                                                                                                                                            \n",
    "        conv_thr = {conv_thr}                                                                                                                                                                          \n",
    "        /                                                                                                                                                                                            \n",
    "        ATOMIC_SPECIES                                                                                                                                                                               \n",
    "        {atom} {atomic_mass} {psName}                                                                                                                                                            \n",
    "        ATOMIC_POSITIONS {coordinate_type}                                                                                                                                                                        \n",
    "        {atomic_positions}\n",
    "        K_POINTS automatic                                                                                                                                                                           \n",
    "        {kptx} {kpty} {kptz} {offsetx} {offsety} {offsetz}\n",
    "        CELL_PARAMETERS {cellparam_coordinate_type}\n",
    "        {cell_parameters}\n",
    "        '''.format(**scf_inputs) #assigns information in ''' ''' to variable inputfile\n",
    "\n",
    "    else:\n",
    "        input_file = '''\n",
    "        &control                                                                                                                                                                                     \n",
    "        calculation = 'scf'                                                                                                                                                                         \n",
    "        prefix = '{material_prefix}'                                                                                                                                                                                \n",
    "\n",
    "        restart_mode = '{restart_mode}'                                                                                                                                                               \n",
    "        wf_collect = .true.                                                                                                                                                                          \n",
    "        verbosity = 'high'                                                                                                                                                                           \n",
    "        outdir = './'\n",
    "        max_seconds = {max_seconds}\n",
    "        etot_conv_thr = {etot_conv_thr}\n",
    "        pseudo_dir = './'\n",
    "        /                                                                                                                                                                                            \n",
    "        &system                                                                                                                                                                                      \n",
    "        ibrav = {ibrav}                                                                                                                                                                                    \n",
    "        celldm(1) = {celldm_1}                                                                                                                                                                           \n",
    "        nat = {nat}                                                                                                                                                                                      \n",
    "        ntyp = {ntyp}                                                                                                                                                                                                                                                                                                                                                                          \n",
    "        ecutwfc = {ecutwfc} \n",
    "        nosym = {nosym}\n",
    "        /                                                                                                                                                                                            \n",
    "        &electrons                                                                                                                                                                                   \n",
    "        diagonalization = '{diagonalization}'                                                                                                                                                                  \n",
    "        mixing_beta = {mixing_beta}                                                                                                                                                                            \n",
    "        conv_thr = {conv_thr}                                                                                                                                                                          \n",
    "        /                                                                                                                                                                                            \n",
    "        ATOMIC_SPECIES                                                                                                                                                                               \n",
    "        {atom} {atomic_mass} {psName}                                                                                                                                                              \n",
    "        ATOMIC_POSITIONS {coordinate_type}                                                                                                                                                                        \n",
    "        {atomic_positions}\n",
    "        K_POINTS automatic                                                                                                                                                                           \n",
    "        {kptx} {kpty} {kptz} {offsetx} {offsety} {offsetz}\n",
    "        '''.format(**scf_inputs) #assigns information in ''' ''' to variable inputfile\n",
    "\n",
    "    with open(scf_name, \"w\") as f: #opens file pw_name\n",
    "        f.write(input_file) #writes inputfile to file pw_name"
   ]
  },
  {
   "cell_type": "code",
   "execution_count": null,
   "id": "9e9c3dcf",
   "metadata": {},
   "outputs": [],
   "source": []
  }
 ],
 "metadata": {
  "kernelspec": {
   "display_name": "Python 3 (ipykernel)",
   "language": "python",
   "name": "python3"
  },
  "language_info": {
   "codemirror_mode": {
    "name": "ipython",
    "version": 3
   },
   "file_extension": ".py",
   "mimetype": "text/x-python",
   "name": "python",
   "nbconvert_exporter": "python",
   "pygments_lexer": "ipython3",
   "version": "3.10.6"
  },
  "toc": {
   "base_numbering": 1,
   "nav_menu": {},
   "number_sections": true,
   "sideBar": true,
   "skip_h1_title": false,
   "title_cell": "Table of Contents",
   "title_sidebar": "Contents",
   "toc_cell": false,
   "toc_position": {},
   "toc_section_display": true,
   "toc_window_display": false
  },
  "varInspector": {
   "cols": {
    "lenName": 16,
    "lenType": 16,
    "lenVar": 40
   },
   "kernels_config": {
    "python": {
     "delete_cmd_postfix": "",
     "delete_cmd_prefix": "del ",
     "library": "var_list.py",
     "varRefreshCmd": "print(var_dic_list())"
    },
    "r": {
     "delete_cmd_postfix": ") ",
     "delete_cmd_prefix": "rm(",
     "library": "var_list.r",
     "varRefreshCmd": "cat(var_dic_list()) "
    }
   },
   "types_to_exclude": [
    "module",
    "function",
    "builtin_function_or_method",
    "instance",
    "_Feature"
   ],
   "window_display": false
  }
 },
 "nbformat": 4,
 "nbformat_minor": 5
}
