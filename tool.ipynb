{
 "cells": [
  {
   "cell_type": "code",
   "execution_count": 1,
   "id": "further-grass",
   "metadata": {
    "ExecuteTime": {
     "end_time": "2023-04-19T04:17:30.485598Z",
     "start_time": "2023-04-19T04:17:24.731388Z"
    },
    "code_folding": []
   },
   "outputs": [
    {
     "data": {
      "text/html": [
       "<style>\n",
       ".header{\n",
       "    background-color:#dedede;\n",
       "    padding: 10px;\n",
       "}\n",
       ".main {\n",
       "    border: solid 1px;\n",
       "}\n",
       "\n",
       ".tab {\n",
       "    border: 0px;\n",
       "}\n",
       "</style>\n"
      ],
      "text/plain": [
       "<IPython.core.display.HTML object>"
      ]
     },
     "metadata": {},
     "output_type": "display_data"
    },
    {
     "data": {
      "text/html": [
       "<style>\n",
       ".header{\n",
       "    background-color:#dedede;\n",
       "    padding: 10px;\n",
       "}\n",
       ".main {\n",
       "    border: solid 1px;\n",
       "}\n",
       "\n",
       ".tab {\n",
       "    border: 0px;\n",
       "}\n",
       "</style>\n"
      ],
      "text/plain": [
       "<IPython.core.display.HTML object>"
      ]
     },
     "metadata": {},
     "output_type": "display_data"
    },
    {
     "data": {
      "text/html": [
       "<style>\n",
       ".header{\n",
       "    background-color:#dedede;\n",
       "    padding: 10px;\n",
       "}\n",
       ".main {\n",
       "    border: solid 1px;\n",
       "}\n",
       "\n",
       ".tab {\n",
       "    border: 0px;\n",
       "}\n",
       "</style>\n"
      ],
      "text/plain": [
       "<IPython.core.display.HTML object>"
      ]
     },
     "metadata": {},
     "output_type": "display_data"
    },
    {
     "data": {
      "text/html": [
       "<style>\n",
       ".header{\n",
       "    background-color:#dedede;\n",
       "    padding: 10px;\n",
       "}\n",
       ".main {\n",
       "    border: solid 1px;\n",
       "}\n",
       "\n",
       ".tab {\n",
       "    border: 0px;\n",
       "}\n",
       "</style>\n"
      ],
      "text/plain": [
       "<IPython.core.display.HTML object>"
      ]
     },
     "metadata": {},
     "output_type": "display_data"
    },
    {
     "data": {
      "application/javascript": [
       "\n",
       "            require(\n",
       "                [\n",
       "                    \"notebook/js/codecell\",\n",
       "                    \"codemirror/mode/yaml/yaml\"\n",
       "                ],\n",
       "                function(cc){\n",
       "                    cc.CodeCell.options_default.highlight_modes.magic_yaml = {\n",
       "                        reg: [\"^%%yaml\"]\n",
       "                    }\n",
       "                }\n",
       "            );\n",
       "            "
      ],
      "text/plain": [
       "<IPython.core.display.Javascript object>"
      ]
     },
     "metadata": {},
     "output_type": "display_data"
    }
   ],
   "source": [
    "### Import libraries\n",
    "from ipywidgets import HTML, AppLayout, VBox, Button, Tab, FloatProgress, Output, IntSlider, interactive_output\n",
    "from ipywidgets import interact, interactive, fixed, interact_manual\n",
    "import os\n",
    "import threading\n",
    "import time\n",
    "from simtool import DB\n",
    "import re\n",
    "\n",
    "%matplotlib widget\n",
    "import ipywidgets as widgets\n",
    "import matplotlib.pyplot as plt\n",
    "import numpy as np\n",
    "import random\n",
    "\n",
    "%run styles.ipynb\n",
    "%run pw_x.ipynb \n",
    "%run ph_x.ipynb\n",
    "%run epw_x.ipynb\n",
    "%run styles.ipynb\n",
    "%run color_changer.ipynb"
   ]
  },
  {
   "cell_type": "code",
   "execution_count": 2,
   "id": "challenging-campaign",
   "metadata": {
    "ExecuteTime": {
     "end_time": "2023-04-19T04:17:30.490734Z",
     "start_time": "2023-04-19T04:17:30.488286Z"
    }
   },
   "outputs": [],
   "source": [
    "# bind Control form to output\n",
    "output = Output()\n",
    "def on_simulate_btn_click(self):\n",
    "    output.clear_output()\n",
    "    if not (material_prefix.value and pseudo_dir.value and outdir.value and projections.value and pseudo_filename.value):\n",
    "        with output:\n",
    "            print(\"\\033[31m\" +'You Need to fill in All inputs!!')\n",
    "            return output\n",
    "    else:\n",
    "        #print('nah')\n",
    "        bind_PW_X_inputs(self)      # method defined in pw_x.ipynb\n",
    "        bind_PH_X_inputs(self)      # method defined in ph_x.ipynb\n",
    "        bind_EPW_X_inputs(self)     # method defined in epw_x.ipynb\n",
    "    \n",
    "    "
   ]
  },
  {
   "cell_type": "code",
   "execution_count": 3,
   "id": "regulation-vancouver",
   "metadata": {
    "ExecuteTime": {
     "end_time": "2023-04-19T04:17:30.537302Z",
     "start_time": "2023-04-19T04:17:30.495440Z"
    }
   },
   "outputs": [],
   "source": [
    "# Simulate\n",
    "simulate_btn = Button(description=\"Simulate\", \n",
    "                button_style='', # 'success', 'info', 'warning', 'danger' or '',                    \n",
    "                tooltip='Run Simulation'\n",
    "            )\n",
    "simulate_btn.style.button_color='lightgreen'\n",
    "simulate_btn.on_click(on_simulate_btn_click)\n",
    "\n",
    "# simulate_btn = ui.RunCommand(label=\"Simulate\", tooltip=\"Run Simulation\", start_func=start_simulation)\n",
    "progress_bar = FloatProgress(\n",
    "    value=0.0,\n",
    "    min=0,\n",
    "    max=1.0,\n",
    "    bar_style='info',\n",
    "    style={'bar_color': '#0000ff'},\n",
    "    orientation='horizontal'\n",
    ")\n",
    "\n",
    "abort_btn = Button(description=\"Abort\", disabled=True)\n",
    "# abort_btn = ui.RunCommand(label=\"Run\", tooltip=\"Abort Simulation\", start_func=abort)\n",
    "\n",
    "\n",
    "# https://ipywidgets.readthedocs.io/en/stable/examples/Output%20Widget.html\n",
    "out = Output(layout={'border': '1px solid black',\n",
    "                        'width': '100%'})\n",
    "\n",
    "\n",
    "form_items = [\n",
    "    Box([simulate_btn], layout=form_item_layout()),\n",
    "    Box([progress_bar], layout=form_item_layout()),\n",
    "    Box([abort_btn], layout=form_item_layout()),\n",
    "    Box([out], layout=form_item_layout())\n",
    "]\n",
    "\n",
    "simulate_box = Box(form_items, layout=box_layout(40))\n",
    "\n",
    "#simulate_box\n"
   ]
  },
  {
   "cell_type": "markdown",
   "id": "23bad67f-e4f6-4398-91c3-aebb9e9845b7",
   "metadata": {},
   "source": [
    "## Create Results Tab"
   ]
  },
  {
   "cell_type": "code",
   "execution_count": 4,
   "id": "e0cd9e56-b13f-40d1-8fcb-43df9d63d5e6",
   "metadata": {},
   "outputs": [],
   "source": [
    "#Results\n",
    "simulate_btn2 = Button(description=\"Temporary\", \n",
    "                button_style='', # 'success', 'info', 'warning', 'danger' or '',                    \n",
    "                tooltip=''\n",
    "            )\n",
    "results_area = Textarea(\n",
    "    value='Hello World',\n",
    "    placeholder='Type something',\n",
    "    description='Output:',\n",
    "    disabled=True\n",
    ")\n",
    "  \n",
    "    \n",
    "out2 = Output(layout={'border': '1px solid black',\n",
    "                        'width': '800px'})\n",
    "    \n",
    "\n",
    "form_items = [\n",
    "    #Box([results_area], layout=form_item_layout())\n",
    "    Box([out2], layout=box_layout(100))\n",
    "]\n",
    "\n",
    "results_box = Box(form_items, layout=box_layout(100))\n",
    "\n",
    "\n",
    "\n"
   ]
  },
  {
   "cell_type": "markdown",
   "id": "ba1dacf9-df16-4f58-bbfc-a720ad8849d5",
   "metadata": {},
   "source": [
    "## Create Function For Progress Bar Movement"
   ]
  },
  {
   "cell_type": "code",
   "execution_count": 5,
   "id": "932baaf0-54b5-4d4e-90c5-e80096caa45b",
   "metadata": {},
   "outputs": [],
   "source": [
    "def bar(progress):\n",
    "    total = 11\n",
    "    #progress.value = float(x)/total\n",
    "    while progressNum<=total:\n",
    "        progress.value = float(progressNum)/total\n",
    "        "
   ]
  },
  {
   "cell_type": "markdown",
   "id": "daeed1ff-c8a2-4079-a0d3-c8c3b627502d",
   "metadata": {},
   "source": [
    "## Create Background Thread for Progress Bar"
   ]
  },
  {
   "cell_type": "code",
   "execution_count": 6,
   "id": "19ba789d-22be-4ab6-a5e2-330bd1f755f1",
   "metadata": {},
   "outputs": [],
   "source": [
    "#global x\n",
    "#x=1\n",
    "#global progressNum\n",
    "progressNum=0\n",
    "thread = threading.Thread(target=bar, args=(progress_bar,))\n",
    "\n",
    "thread.start()"
   ]
  },
  {
   "cell_type": "markdown",
   "id": "3b3fea16-be17-44ee-819a-437db7b6c489",
   "metadata": {},
   "source": [
    "## Create Function to Control Status Messages"
   ]
  },
  {
   "cell_type": "code",
   "execution_count": 7,
   "id": "a2f5c520-4b2e-4d47-8f55-6c6e87eaae7b",
   "metadata": {},
   "outputs": [],
   "source": [
    "statement1='CREATING PW SCF INPUT FILE'\n",
    "statement2='STARTED PW SCF SIMULATION'\n",
    "statement3='CREATING PW NSCF INPUT FILE '\n",
    "statement4='STARTED PW SCF SIMULATION'\n",
    "statement5='CREATING PH INPUT FILE'\n",
    "statement6='STARTED PH SIMULATION'\n",
    "statement7='STARTED POST PROCESSING OF PH SIMULATION RESULTS'\n",
    "statement8='CREATING EPW INPUT FILE'\n",
    "statement9='STARTED EPW SIMULATION'\n",
    "statement10='CREATING EPW OUTPUTS'\n",
    "statement11='PLOTTING STARTED'\n",
    "\n",
    "\n",
    "\n",
    "global x\n",
    "x=1\n",
    "global flag\n",
    "flag = 0\n",
    "\n",
    "\n",
    "def printStatements(out):\n",
    "    total = 11\n",
    "    #x=0\n",
    "    while x<=total:\n",
    "            #print('.')\n",
    "        if flag == 1:\n",
    "\n",
    "            if x==1:\n",
    "                #flag = 0\n",
    "                t = time.localtime()\n",
    "                current_time = time.strftime(\"%H:%M:%S\", t)\n",
    "                with out:\n",
    "                    print(statement1, ' ',current_time)\n",
    "                    \n",
    "                \n",
    "                \n",
    "                reset_flag()  \n",
    "                \n",
    "            elif x==2:\n",
    "                #flag = 0\n",
    "                t = time.localtime()\n",
    "                current_time = time.strftime(\"%H:%M:%S\", t)\n",
    "                with out:\n",
    "                    print(statement2, ' ',current_time)\n",
    "                reset_flag()\n",
    "                \n",
    "            elif x==3:\n",
    "                #flag = 0\n",
    "                t = time.localtime()\n",
    "                current_time = time.strftime(\"%H:%M:%S\", t)\n",
    "                with out:\n",
    "                    print(statement3, ' ',current_time)\n",
    "                reset_flag()    \n",
    "                \n",
    "            elif x==4:\n",
    "                t = time.localtime()\n",
    "                current_time = time.strftime(\"%H:%M:%S\", t)\n",
    "                with out:\n",
    "                    print(statement4, ' ',current_time)\n",
    "                reset_flag()\n",
    "            \n",
    "            elif x==5:\n",
    "                t = time.localtime()\n",
    "                current_time = time.strftime(\"%H:%M:%S\", t)\n",
    "                with out:\n",
    "                    print(statement5, ' ',current_time)\n",
    "                reset_flag()\n",
    "            \n",
    "            elif x==6:\n",
    "                t = time.localtime()\n",
    "                current_time = time.strftime(\"%H:%M:%S\", t)\n",
    "                with out:\n",
    "                    print(statement6, ' ',current_time)\n",
    "                reset_flag()\n",
    "            \n",
    "            elif x==7:\n",
    "                t = time.localtime()\n",
    "                current_time = time.strftime(\"%H:%M:%S\", t)\n",
    "                with out:\n",
    "                    print(statement7, ' ',current_time)\n",
    "                reset_flag()\n",
    "                \n",
    "            elif x==8:\n",
    "                t = time.localtime()\n",
    "                current_time = time.strftime(\"%H:%M:%S\", t)\n",
    "                with out:\n",
    "                    print(statement8, ' ',current_time)\n",
    "                reset_flag()\n",
    "            \n",
    "            elif x==9:\n",
    "                t = time.localtime()\n",
    "                current_time = time.strftime(\"%H:%M:%S\", t)\n",
    "                with out:\n",
    "                    print(statement9, ' ',current_time)\n",
    "                reset_flag()\n",
    "            \n",
    "            elif x==10:\n",
    "                t = time.localtime()\n",
    "                current_time = time.strftime(\"%H:%M:%S\", t)\n",
    "                with out:\n",
    "                    print(statement10, ' ',current_time)\n",
    "                reset_flag()\n",
    "                \n",
    "            elif x==11:\n",
    "                t = time.localtime()\n",
    "                current_time = time.strftime(\"%H:%M:%S\", t)\n",
    "                with out:\n",
    "                    print(statement11, ' ',current_time)\n",
    "                \n",
    "                \n",
    "                plottingResults()\n",
    "                \n",
    "                reset_flag()\n",
    "                    \n",
    "      \n",
    "def reset_flag():\n",
    "    global flag\n",
    "    flag = 0\n",
    "    #with out:\n",
    "        #print('changing flag back to 0')\n",
    "        \n",
    "        \n",
    "        \n",
    "        \n",
    "        \n",
    "def plottingResults():\n",
    "    # X axis parameter:\n",
    "    #xaxis = np.array([2, 8])\n",
    "\n",
    "    # Y axis parameter:\n",
    "    #yaxis = np.array([4, 9])\n",
    "    \n",
    "    #with out2:\n",
    "    #    plot = plt.figure()\n",
    "    #    plt.plot(xaxis, yaxis)\n",
    "    #    #plt.set_size_inches(18.5, 10.5, forward=True)\n",
    "    #    plt.show()\n",
    "        \n",
    "    blockepsi = \"\"\n",
    "    epsi_data = []\n",
    "    freq_ONCV = []\n",
    "\n",
    "    epsix = []\n",
    "    epsiy = []\n",
    "    epsiz = []\n",
    "\n",
    "\n",
    "    with open('../data/epw-si.out') as file:\n",
    "        foundepsi = False\n",
    "        blockepsi = \"\"\n",
    "        for line in file:\n",
    "            if foundepsi:\n",
    "                if line.strip() == 'Values with other broadening are reported in the files epsilon2_indabs.dat':\n",
    "                    break\n",
    "                else:\n",
    "                    blockepsi += line\n",
    "            elif line.strip() == 'Photon energy (eV), Imaginary dielectric function along x,y,z':\n",
    "                foundepsi = True\n",
    "\n",
    "    rawepsi = blockepsi.split()\n",
    "\n",
    "    for i in rawepsi:\n",
    "        try:\n",
    "            epsi_data.append(float(i))\n",
    "        except ValueError:\n",
    "            continue\n",
    "    np.asarray(epsi_data)\n",
    "    big_array_epsi = np.array_split(epsi_data,60) # provid nw from eps.in, (energy grid [eV]     eps_x  eps_y  eps_z)\n",
    "\n",
    "    for k in big_array_epsi:\n",
    "        freq_ONCV.append(k[0])\n",
    "        epsix.append(k[1])\n",
    "        epsiy.append(k[2])\n",
    "        epsiz.append(k[3])        \n",
    "\n",
    "    #epsi = epsix #epsiy #epsiz\n",
    "\n",
    "    h = 4.135667516e-15\n",
    "    c = 299792458\n",
    "    n_r = 3.4\n",
    "\n",
    "    alpha_abs_list_ONCV = []\n",
    "\n",
    "\n",
    "\n",
    "    for i in freq_ONCV:\n",
    "        lambda_wl = h*c/i\n",
    "        epsi = epsix[freq_ONCV.index(i)]\n",
    "        epsr = n_r**2 - (epsi**2/(4*n_r**2))\n",
    "        k_extinc = (1/math.sqrt(2))*math.sqrt(-epsr+math.sqrt(epsr**2+epsi**2))\n",
    "        alpha_abs = (4*math.pi*k_extinc)/(lambda_wl*100)\n",
    "        alpha_abs_list_ONCV.append(alpha_abs)   \n",
    "\n",
    "\n",
    "    #load in data from prior publications\n",
    "\n",
    "    %run ../data/GreenKeevers #experimental measurement, Green and Keevers PROGRESS IN PHOTOVOLTAICS: RESEARCH AND APPLICATIONS 1995\n",
    "    %run ../data/Braunstein #experimental measurement, Braunstein et al. Physical Review 1958\n",
    "    %run ../data/Noffsinger #GW-based EPW calculation, Noffsinger et al. PRL 2012\n",
    "\n",
    "    #experimental measurement, Sullivan and Stanley IEEE Trans. Plas. Sci. 2008\n",
    "    sullivan_freq = [1.17, 1.5, 2.0, 2.34]\n",
    "    sullivan_abs = [15.2, 486, 3.2e3, 6.8e3]\n",
    "    \n",
    "    rc('font', size=60, weight='bold')\n",
    "    rc('lines', linewidth=5)\n",
    "    rc('axes', labelsize=60, labelweight='bold', titlesize=30, titleweight='bold', facecolor='.990', grid=True)\n",
    "    rc('xtick', labelsize=60)\n",
    "    rc('ytick', labelsize=60)\n",
    "    rc('legend', fontsize=30)\n",
    "    rc('figure', figsize=[20,20])\n",
    "\n",
    "    fig, ax = plt.subplots(1,1, figsize=[15,15])\n",
    "\n",
    "\n",
    "    p1, = ax.plot(freq_ONCV, alpha_abs_list_ONCV, label='GGA ONCV (sg15) Computed, 300K, shift = 0.5 eV', color='tab:cyan')\n",
    "\n",
    "\n",
    "    p2, = ax.plot(freq_gk, alpha_gk, label='Experiment, Green and Keevers, 300K', color='tab:green', linestyle='dotted')\n",
    "    #ax.plot(freq_BN_cold, alpha_BN_cold, label='Experiment, Braunstein et al (1958), 78K', color='tab:purple', linestyle='dotted')\n",
    "    p3, = ax.plot(freq_BN_room, alpha_BN_room, label='Experiment, Braunstein et al (1958), 296K', color='tab:purple', linestyle = 'dotted')\n",
    "    #ax.plot(freq_noff_cold, alpha_noff_cold, label= 'GW Computed, 78K', color='tab:orange', linestyle = 'dotted')\n",
    "    p4 = ax.scatter(sullivan_freq, sullivan_abs, s=750, marker='^', label='Experiment, Sullivan (2012), 300K', color = 'tab:olive')\n",
    "\n",
    "    p5, = ax.plot(freq_noff_room, alpha_noff_room, label= 'GW Computed, 296K, shift = 0.7 eV', color='tab:orange', linestyle ='dashed')\n",
    "\n",
    "\n",
    "\n",
    "\n",
    "\n",
    "    ax.set_xlabel('Photon energy (eV)')\n",
    "    ax.set_ylabel('Absorption (cm-1)')\n",
    "    ax.set_title('Si Unit Cell Optical Absorption', fontweight = 'bold', fontsize = 60)\n",
    "\n",
    "    ax.legend([p1,p2,p3,p4,p5],['GGA ONCV (sg15) Computed, 300K, shift = 0.5 eV','GW Computed, 296K, shift = 0.7 eV','Experiment, Green and Keevers, 300K','Experiment, Braunstein et al (1958), 296K','Experiment, Sullivan (2012), 300K'])\n",
    "\n",
    "\n",
    "    ax.axvline(1.1,color ='tab:red') #experimenal measurment\n",
    "    ax.text(1.2, 1e4, 'Si Indirect Band Gap', fontsize=30, color ='tab:red')\n",
    "    #ax.grid(b=True,which='both')\n",
    "\n",
    "\n",
    "    ax.set_xlim(0.8, 3.5)\n",
    "    #ax.set_ylim(1e-1,1e6)\n",
    "    plt.yscale('log')\n",
    "    #fig.savefig('../data/epw_with-phon_alpha_qe_si.png', dpi='figure', orientation='landscape', transparent=False, bbox_inches='tight')#, pad_inches=0.1, frameon=None, metadata=None, facecolor='w', edgecolor='w'\n",
    "    \n",
    "    \n",
    "    freq_shifted =[]\n",
    "    shift = -0.2 # scissor shift in eV\n",
    "    #ax.text(3,500,'Rigid scissor shift = 0.8 eV', fontsize=30, color='tab:blue')\n",
    "    for i in freq_ONCV:\n",
    "        newval = i+shift\n",
    "        freq_shifted.append(newval)\n",
    "        \n",
    "        \n",
    "    rc('font', size=60, weight='bold')\n",
    "    rc('lines', linewidth=5)\n",
    "    rc('axes', labelsize=60, labelweight='bold', titlesize=30, titleweight='bold', facecolor='.990', grid=True)\n",
    "    rc('xtick', labelsize=60)\n",
    "    rc('ytick', labelsize=60)\n",
    "    rc('legend', fontsize=30)\n",
    "    rc('figure', figsize=[20,20])\n",
    "\n",
    "    fig, ax = plt.subplots(1,1, figsize=[15,15])\n",
    "\n",
    "\n",
    "    p1, = ax.plot(freq_shifted, alpha_abs_list_ONCV, label='GGA ONCV (sg15) Computed, 300K, shift = 0.5 eV', color='tab:cyan')\n",
    "\n",
    "\n",
    "    p2, = ax.plot(freq_gk, alpha_gk, label='Experiment, Green and Keevers, 300K', color='tab:green', linestyle='dotted')\n",
    "    #ax.plot(freq_BN_cold, alpha_BN_cold, label='Experiment, Braunstein et al (1958), 78K', color='tab:purple', linestyle='dotted')\n",
    "    p3, = ax.plot(freq_BN_room, alpha_BN_room, label='Experiment, Braunstein et al (1958), 296K', color='tab:purple', linestyle = 'dotted')\n",
    "    #ax.plot(freq_noff_cold, alpha_noff_cold, label= 'GW Computed, 78K', color='tab:orange', linestyle = 'dotted')\n",
    "    p4 = ax.scatter(sullivan_freq, sullivan_abs, s=750, marker='^', label='Experiment, Sullivan (2012), 300K', color = 'tab:olive')\n",
    "\n",
    "    p5, = ax.plot(freq_noff_room, alpha_noff_room, label= 'GW Computed, 296K, shift = 0.7 eV', color='tab:orange', linestyle ='dashed')\n",
    "\n",
    "\n",
    "\n",
    "\n",
    "\n",
    "    ax.set_xlabel('Photon energy (eV)')\n",
    "    ax.set_ylabel('Absorption (cm-1)')\n",
    "    ax.set_title('Si Unit Cell Optical Absorption', fontweight = 'bold', fontsize = 60)\n",
    "\n",
    "    ax.legend([p1,p2,p3,p4,p5],['GGA ONCV (sg15) Computed, 300K, shift = 0.5 eV','GW Computed, 296K, shift = 0.7 eV','Experiment, Green and Keevers, 300K','Experiment, Braunstein et al (1958), 296K','Experiment, Sullivan (2012), 300K'])\n",
    "\n",
    "\n",
    "    ax.axvline(1.1,color ='tab:red') #experimenal measurment\n",
    "    ax.text(1.2, 1e4, 'Si Indirect Band Gap', fontsize=30, color ='tab:red')\n",
    "    #ax.grid(b=True,which='both')\n",
    "\n",
    "\n",
    "    ax.set_xlim(0.8, 3.5)\n",
    "    #ax.set_ylim(1e-1,1e6)\n",
    "    plt.yscale('log')\n",
    "    #fig.savefig('../data/epw_with-phon_alpha_qe_si.png', dpi='figure', orientation='landscape', transparent=False, bbox_inches='tight')#, pad_inches=0.1, frameon=None, metadata=None, facecolor='w', edgecolor='w'\n",
    "    "
   ]
  },
  {
   "cell_type": "markdown",
   "id": "3fe7183f-9dd8-4779-a5e6-22b2c5938195",
   "metadata": {},
   "source": [
    "## Create Thread for Status Message Updates"
   ]
  },
  {
   "cell_type": "code",
   "execution_count": 8,
   "id": "6493b664-69a7-4df9-ba7d-ffde3fcc787e",
   "metadata": {},
   "outputs": [],
   "source": [
    "thread2 = threading.Thread(target=printStatements, args=(out,))\n",
    "thread2.start()"
   ]
  },
  {
   "cell_type": "markdown",
   "id": "38464d66-8feb-49d7-b29b-1ca04ffce6f1",
   "metadata": {},
   "source": [
    "## Combine Simulate Tabs"
   ]
  },
  {
   "cell_type": "code",
   "execution_count": 9,
   "id": "739fb3d3-f1d7-4870-8417-fa67a5dcc927",
   "metadata": {},
   "outputs": [],
   "source": [
    "simulate_tabs = Tab()\n",
    "tab_contents = [simulate_box,results_box]\n",
    "simulate_tabs.children = tab_contents\n",
    "\n",
    "simulate_tabs.set_title(0, \"Run\")\n",
    "simulate_tabs.set_title(1, \"Results\")"
   ]
  },
  {
   "cell_type": "code",
   "execution_count": null,
   "id": "af40ecf5-98bc-40f8-a1a9-0124db2afb71",
   "metadata": {},
   "outputs": [],
   "source": []
  },
  {
   "cell_type": "code",
   "execution_count": null,
   "id": "55f4b4b4-eb9f-40ae-85ae-157c9b9b5594",
   "metadata": {},
   "outputs": [],
   "source": []
  },
  {
   "cell_type": "code",
   "execution_count": null,
   "id": "223df9a4-4e5d-4999-8a76-f08fa084b29e",
   "metadata": {},
   "outputs": [],
   "source": []
  },
  {
   "cell_type": "markdown",
   "id": "78f12c78-b06a-44e5-a941-d73a787bf03c",
   "metadata": {},
   "source": [
    "## Combine All Tabs"
   ]
  },
  {
   "cell_type": "code",
   "execution_count": 10,
   "id": "coordinated-vaccine",
   "metadata": {
    "ExecuteTime": {
     "end_time": "2023-04-19T04:17:30.765340Z",
     "start_time": "2023-04-19T04:17:30.540327Z"
    }
   },
   "outputs": [
    {
     "data": {
      "application/vnd.jupyter.widget-view+json": {
       "model_id": "3b94787ef695494397f45e125e639e51",
       "version_major": 2,
       "version_minor": 0
      },
      "text/plain": [
       "AppLayout(children=(HTML(value='<h2>SEMICONDUCTOR PHYSICS SIMULATION TOOL</h2>', layout=Layout(grid_area='head…"
      ]
     },
     "metadata": {},
     "output_type": "display_data"
    }
   ],
   "source": [
    "# combined all tabs and forms\n",
    "header = HTML(\n",
    "    value=\"<h2>SEMICONDUCTOR PHYSICS SIMULATION TOOL</h2>\",\n",
    "    placeholder='Title',\n",
    "    layout=Layout(height='auto')\n",
    ")\n",
    "header.add_class('header')\n",
    "\n",
    "tool_tabs = Tab()\n",
    "tab_contents = [pw_x_tabs, ph_x_box, epw_x_tabs, simulate_tabs]\n",
    "tool_tabs.children = tab_contents\n",
    "\n",
    "tool_tabs.set_title(0, \"PW.x Inputs\")\n",
    "tool_tabs.set_title(1, \"PH.x Inputs\")\n",
    "tool_tabs.set_title(2, \"EPW.x Inputs\")\n",
    "tool_tabs.set_title(3, \"Simulate\")\n",
    "\n",
    "app = AppLayout(center=tool_tabs, header=header, pane_heights=[1, 5, '0'])\n",
    "app.add_class(\"main\")\n"
   ]
  },
  {
   "cell_type": "code",
   "execution_count": null,
   "id": "de59ae85",
   "metadata": {},
   "outputs": [],
   "source": []
  }
 ],
 "metadata": {
  "kernelspec": {
   "display_name": "Python 3.8",
   "language": "python",
   "name": "python3"
  },
  "language_info": {
   "codemirror_mode": {
    "name": "ipython",
    "version": 3
   },
   "file_extension": ".py",
   "mimetype": "text/x-python",
   "name": "python",
   "nbconvert_exporter": "python",
   "pygments_lexer": "ipython3",
   "version": "3.8.10"
  },
  "toc": {
   "base_numbering": 1,
   "nav_menu": {},
   "number_sections": true,
   "sideBar": true,
   "skip_h1_title": false,
   "title_cell": "Table of Contents",
   "title_sidebar": "Contents",
   "toc_cell": false,
   "toc_position": {},
   "toc_section_display": true,
   "toc_window_display": false
  },
  "varInspector": {
   "cols": {
    "lenName": 16,
    "lenType": 16,
    "lenVar": 40
   },
   "kernels_config": {
    "python": {
     "delete_cmd_postfix": "",
     "delete_cmd_prefix": "del ",
     "library": "var_list.py",
     "varRefreshCmd": "print(var_dic_list())"
    },
    "r": {
     "delete_cmd_postfix": ") ",
     "delete_cmd_prefix": "rm(",
     "library": "var_list.r",
     "varRefreshCmd": "cat(var_dic_list()) "
    }
   },
   "types_to_exclude": [
    "module",
    "function",
    "builtin_function_or_method",
    "instance",
    "_Feature"
   ],
   "window_display": false
  }
 },
 "nbformat": 4,
 "nbformat_minor": 5
}
