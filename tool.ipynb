{
 "cells": [
  {
   "cell_type": "code",
   "execution_count": null,
   "id": "further-grass",
   "metadata": {
    "ExecuteTime": {
     "end_time": "2023-04-14T21:38:04.631601Z",
     "start_time": "2023-04-14T21:37:58.489305Z"
    },
    "code_folding": []
   },
   "outputs": [],
   "source": [
    "### Import libraries\n",
    "from ipywidgets import HTML, AppLayout, VBox, Button, Tab, FloatProgress, Output, IntSlider, interactive_output\n",
    "from ipywidgets import interact, interactive, fixed, interact_manual\n",
    "import os\n",
    "import threading\n",
    "import time\n",
    "%run styles.ipynb\n",
    "%run pw_x.ipynb \n",
    "%run ph_x.ipynb\n",
    "%run epw_x.ipynb\n",
    "\n",
    "\n"
   ]
  },
  {
   "cell_type": "code",
   "execution_count": null,
   "id": "challenging-campaign",
   "metadata": {
    "ExecuteTime": {
     "end_time": "2023-04-14T21:38:04.636988Z",
     "start_time": "2023-04-14T21:38:04.634551Z"
    },
    "tags": []
   },
   "outputs": [],
   "source": [
    "# bind Control form to output\n",
    "\n",
    "def on_simulate_btn_click(self):\n",
    "    bind_PW_X_inputs(self)      # method defined in pw_x.ipynb\n",
    "    bind_PH_X_inputs(self)      # method defined in ph_x.ipynb\n",
    "    bind_EPW_X_inputs(self)     # method defined in epw_x.ipynb\n",
    "    "
   ]
  },
  {
   "cell_type": "markdown",
   "id": "353937e3-42d9-44d6-aa86-d30dc3def2b8",
   "metadata": {},
   "source": [
    "## Create Simulate Tab"
   ]
  },
  {
   "cell_type": "code",
   "execution_count": null,
   "id": "regulation-vancouver",
   "metadata": {
    "ExecuteTime": {
     "end_time": "2023-04-14T21:38:04.806092Z",
     "start_time": "2023-04-14T21:38:04.640653Z"
    }
   },
   "outputs": [],
   "source": [
    "# Simulate\n",
    "simulate_btn = Button(description=\"Simulate\", \n",
    "                button_style='', # 'success', 'info', 'warning', 'danger' or '',                    \n",
    "                tooltip='Run Simulation'\n",
    "            )\n",
    "simulate_btn.style.button_color='lightgreen'\n",
    "simulate_btn.on_click(on_simulate_btn_click)\n",
    "\n",
    "# simulate_btn = ui.RunCommand(label=\"Simulate\", tooltip=\"Run Simulation\", start_func=start_simulation)\n",
    "progress_bar = FloatProgress(\n",
    "    value=0.0,\n",
    "    min=0,\n",
    "    max=1.0,\n",
    "    bar_style='info',\n",
    "    style={'bar_color': '#0000ff'},\n",
    "    orientation='horizontal'\n",
    ")\n",
    "\n",
    "abort_btn = Button(description=\"Abort\", disabled=True)\n",
    "# abort_btn = ui.RunCommand(label=\"Run\", tooltip=\"Abort Simulation\", start_func=abort)\n",
    "\n",
    "\n",
    "\n",
    "# https://ipywidgets.readthedocs.io/en/stable/examples/Output%20Widget.html\n",
    "out = Output(layout={'border': '1px solid black',\n",
    "                        'width': '100%'})\n",
    "\n",
    "#@out.capture()\n",
    "#def function_with_captured_output():\n",
    "#    print('This goes into the output widget')\n",
    "    \n",
    "    \n",
    "#function_with_captured_output()\n",
    "\n",
    "#with out:\n",
    "    #for i in range(5):\n",
    "     #   print(i, 'Hello world!') \n",
    "#        print('what up')\n",
    "#        print()\n",
    "    \n",
    "    \n",
    "\n",
    "form_items = [\n",
    "    Box([simulate_btn], layout=form_item_layout()),\n",
    "    Box([progress_bar], layout=form_item_layout()),\n",
    "    Box([abort_btn], layout=form_item_layout()),\n",
    "    Box([out], layout=form_item_layout())\n",
    "]\n",
    "\n",
    "simulate_box = Box(form_items, layout=box_layout(40))\n",
    "\n",
    "#simulate_box\n"
   ]
  },
  {
   "cell_type": "markdown",
   "id": "325f7d5b-be79-4c8a-951b-1cd0c8dc4283",
   "metadata": {},
   "source": [
    "## Create Function For Progress Bar Movement"
   ]
  },
  {
   "cell_type": "code",
   "execution_count": null,
   "id": "56abbdf0-0f26-4067-b439-de01a6f0cca3",
   "metadata": {},
   "outputs": [],
   "source": [
    "def bar(progress):\n",
    "    total = 10\n",
    "    #progress.value = float(x)/total\n",
    "    while progressNum<=total:\n",
    "        progress.value = float(progressNum)/total\n",
    "        "
   ]
  },
  {
   "cell_type": "markdown",
   "id": "cf9c409a-cced-4db9-8aa7-b2fc859eea33",
   "metadata": {},
   "source": [
    "## Create Background Thread for Progress Bar"
   ]
  },
  {
   "cell_type": "code",
   "execution_count": null,
   "id": "782dfb26-2792-49f7-abb4-74f9ae24a6b4",
   "metadata": {},
   "outputs": [],
   "source": [
    "#global x\n",
    "#x=1\n",
    "#global progressNum\n",
    "progressNum=0\n",
    "thread = threading.Thread(target=bar, args=(progress_bar,))\n",
    "\n",
    "thread.start()"
   ]
  },
  {
   "cell_type": "markdown",
   "id": "3c41cd33-8f5a-4576-b541-dee2dd12e1f7",
   "metadata": {},
   "source": [
    "## Create Function to Control Status Messages"
   ]
  },
  {
   "cell_type": "code",
   "execution_count": null,
   "id": "080182fa-a501-48ee-a4bf-0b03b44e04c4",
   "metadata": {},
   "outputs": [],
   "source": [
    "statement1='CREATING PW SCF INPUT FILE'\n",
    "statement2='STARTED PW SCF SIMULATION'\n",
    "statement3='CREATING PW NSCF INPUT FILE '\n",
    "statement4='STARTED PW SCF SIMULATION'\n",
    "statement5='CREATING PH INPUT FILE'\n",
    "statement6='STARTED PH SIMULATION'\n",
    "statement7='STARTED POST PROCESSING OF PH SIMULATION RESULTS'\n",
    "statement8='CREATING EPW INPUT FILE'\n",
    "statement9='STARTED EPW SIMULATION'\n",
    "statement10='CREATING EPW OUTPUTS'\n",
    "\n",
    "\n",
    "\n",
    "\n",
    "global x\n",
    "x=1\n",
    "global flag\n",
    "flag = 0\n",
    "\n",
    "\n",
    "def printStatements(out):\n",
    "    total = 10\n",
    "    #x=0\n",
    "    while x<=total:\n",
    "            #print('.')\n",
    "        if flag == 1:\n",
    "\n",
    "            if x==1:\n",
    "                #flag = 0\n",
    "                t = time.localtime()\n",
    "                current_time = time.strftime(\"%H:%M:%S\", t)\n",
    "                with out:\n",
    "                    print(statement1, ' ',current_time)\n",
    "                    \n",
    "    \n",
    "                reset_flag()  \n",
    "                \n",
    "            elif x==2:\n",
    "                #flag = 0\n",
    "                t = time.localtime()\n",
    "                current_time = time.strftime(\"%H:%M:%S\", t)\n",
    "                with out:\n",
    "                    print(statement2, ' ',current_time)\n",
    "                reset_flag()\n",
    "                \n",
    "            elif x==3:\n",
    "                #flag = 0\n",
    "                t = time.localtime()\n",
    "                current_time = time.strftime(\"%H:%M:%S\", t)\n",
    "                with out:\n",
    "                    print(statement3, ' ',current_time)\n",
    "                reset_flag()    \n",
    "                \n",
    "            elif x==4:\n",
    "                t = time.localtime()\n",
    "                current_time = time.strftime(\"%H:%M:%S\", t)\n",
    "                with out:\n",
    "                    print(statement4, ' ',current_time)\n",
    "                reset_flag()\n",
    "            \n",
    "            elif x==5:\n",
    "                t = time.localtime()\n",
    "                current_time = time.strftime(\"%H:%M:%S\", t)\n",
    "                with out:\n",
    "                    print(statement5, ' ',current_time)\n",
    "                reset_flag()\n",
    "            \n",
    "            elif x==6:\n",
    "                t = time.localtime()\n",
    "                current_time = time.strftime(\"%H:%M:%S\", t)\n",
    "                with out:\n",
    "                    print(statement6, ' ',current_time)\n",
    "                reset_flag()\n",
    "            \n",
    "            elif x==7:\n",
    "                t = time.localtime()\n",
    "                current_time = time.strftime(\"%H:%M:%S\", t)\n",
    "                with out:\n",
    "                    print(statement7, ' ',current_time)\n",
    "                reset_flag()\n",
    "                \n",
    "            elif x==8:\n",
    "                t = time.localtime()\n",
    "                current_time = time.strftime(\"%H:%M:%S\", t)\n",
    "                with out:\n",
    "                    print(statement8, ' ',current_time)\n",
    "                reset_flag()\n",
    "            \n",
    "            elif x==9:\n",
    "                t = time.localtime()\n",
    "                current_time = time.strftime(\"%H:%M:%S\", t)\n",
    "                with out:\n",
    "                    print(statement9, ' ',current_time)\n",
    "                reset_flag()\n",
    "            \n",
    "            elif x==10:\n",
    "                t = time.localtime()\n",
    "                current_time = time.strftime(\"%H:%M:%S\", t)\n",
    "                with out:\n",
    "                    print(statement10, ' ',current_time)\n",
    "                reset_flag()\n",
    "                    \n",
    "      \n",
    "def reset_flag():\n",
    "    global flag\n",
    "    flag = 0\n",
    "    #with out:\n",
    "        #print('changing flag back to 0')"
   ]
  },
  {
   "cell_type": "markdown",
   "id": "cd654a60-4125-4b9b-b6c2-d3160ff69b0a",
   "metadata": {},
   "source": [
    "## Create Thread for Status Message Updates"
   ]
  },
  {
   "cell_type": "code",
   "execution_count": null,
   "id": "0630a620-9ec3-4e31-b415-371751c37c4f",
   "metadata": {},
   "outputs": [],
   "source": [
    "thread2 = threading.Thread(target=printStatements, args=(out,))\n",
    "thread2.start()"
   ]
  },
  {
   "cell_type": "markdown",
   "id": "d51cf0a0-3457-40ab-af23-8c633a54e501",
   "metadata": {},
   "source": [
    "## Create Results Tab"
   ]
  },
  {
   "cell_type": "code",
   "execution_count": null,
   "id": "40d177cd-e4cc-4b29-a8b5-a37e3f3a61ba",
   "metadata": {},
   "outputs": [],
   "source": [
    "#Results\n",
    "simulate_btn2 = Button(description=\"Temporary\", \n",
    "                button_style='', # 'success', 'info', 'warning', 'danger' or '',                    \n",
    "                tooltip=''\n",
    "            )\n",
    "results_area = Textarea(\n",
    "    value='Hello World',\n",
    "    placeholder='Type something',\n",
    "    description='Output:',\n",
    "    disabled=True\n",
    ")\n",
    "  \n",
    "\n",
    "\n",
    "form_items = [\n",
    "    Box([results_area], layout=form_item_layout())\n",
    "]\n",
    "\n",
    "results_box = Box(form_items, layout=box_layout(40))\n",
    "\n",
    "\n",
    "\n"
   ]
  },
  {
   "cell_type": "markdown",
   "id": "af5abd9a-8e0d-4c28-b4ce-bd84e4d1aa7a",
   "metadata": {},
   "source": [
    "## Combine Simulate Tabs"
   ]
  },
  {
   "cell_type": "code",
   "execution_count": null,
   "id": "7c7a6f49-c5bd-483e-9764-6bf2dee12c8a",
   "metadata": {},
   "outputs": [],
   "source": [
    "simulate_tabs = Tab()\n",
    "tab_contents = [simulate_box,results_box]\n",
    "simulate_tabs.children = tab_contents\n",
    "\n",
    "simulate_tabs.set_title(0, \"Run\")\n",
    "simulate_tabs.set_title(1, \"Results\")"
   ]
  },
  {
   "cell_type": "markdown",
   "id": "institutional-prevention",
   "metadata": {},
   "source": [
    "## Combine All Tabs"
   ]
  },
  {
   "cell_type": "code",
   "execution_count": null,
   "id": "coordinated-vaccine",
   "metadata": {
    "ExecuteTime": {
     "end_time": "2023-04-14T21:38:05.109804Z",
     "start_time": "2023-04-14T21:38:04.808872Z"
    }
   },
   "outputs": [],
   "source": [
    "header = HTML(\n",
    "    value=\"<h2>SEMICONDUCTOR PHYSICS SIMULATION TOOL</h2>\",\n",
    "    placeholder='Title',\n",
    "    layout=Layout(height='auto')\n",
    ")\n",
    "header.add_class('header')\n",
    "\n",
    "tool_tabs = Tab()\n",
    "tab_contents = [pw_x_tabs, ph_x_box, epw_x_tabs, simulate_tabs]\n",
    "tool_tabs.children = tab_contents\n",
    "\n",
    "tool_tabs.set_title(0, \"PW.x Inputs\")\n",
    "tool_tabs.set_title(1, \"PH.x Inputs\")\n",
    "tool_tabs.set_title(2, \"EPW.x Inputs\")\n",
    "tool_tabs.set_title(3, \"Simulate\")\n",
    "\n",
    "app = AppLayout(center=tool_tabs, header=header, pane_heights=[1, 5, '0'])\n",
    "app.add_class(\"main\")\n",
    "\n",
    "\n",
    "\n",
    "\n"
   ]
  },
  {
   "cell_type": "code",
   "execution_count": null,
   "id": "5b93ba7f-1398-44d7-a9a9-8a4655155766",
   "metadata": {},
   "outputs": [],
   "source": []
  }
 ],
 "metadata": {
  "kernelspec": {
   "display_name": "Python 3.8",
   "language": "python",
   "name": "python3"
  },
  "language_info": {
   "codemirror_mode": {
    "name": "ipython",
    "version": 3
   },
   "file_extension": ".py",
   "mimetype": "text/x-python",
   "name": "python",
   "nbconvert_exporter": "python",
   "pygments_lexer": "ipython3",
   "version": "3.8.10"
  },
  "toc": {
   "base_numbering": 1,
   "nav_menu": {},
   "number_sections": true,
   "sideBar": true,
   "skip_h1_title": false,
   "title_cell": "Table of Contents",
   "title_sidebar": "Contents",
   "toc_cell": false,
   "toc_position": {},
   "toc_section_display": true,
   "toc_window_display": false
  },
  "varInspector": {
   "cols": {
    "lenName": 16,
    "lenType": 16,
    "lenVar": 40
   },
   "kernels_config": {
    "python": {
     "delete_cmd_postfix": "",
     "delete_cmd_prefix": "del ",
     "library": "var_list.py",
     "varRefreshCmd": "print(var_dic_list())"
    },
    "r": {
     "delete_cmd_postfix": ") ",
     "delete_cmd_prefix": "rm(",
     "library": "var_list.r",
     "varRefreshCmd": "cat(var_dic_list()) "
    }
   },
   "types_to_exclude": [
    "module",
    "function",
    "builtin_function_or_method",
    "instance",
    "_Feature"
   ],
   "window_display": false
  }
 },
 "nbformat": 4,
 "nbformat_minor": 5
}
