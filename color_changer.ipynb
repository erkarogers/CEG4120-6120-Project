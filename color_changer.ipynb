{
 "cells": [
  {
   "cell_type": "code",
   "execution_count": null,
   "metadata": {},
   "outputs": [],
   "source": [
    "# Create Control form\n",
    "def change_color(change):\n",
    "    if len(change.new) == 0:\n",
    "         change.owner.layout = red_boi(35)\n",
    "    else:\n",
    "         change.owner.layout = input_layout(35)"
   ]
  }
 ],
 "metadata": {
  "language_info": {
   "name": "python"
  },
  "orig_nbformat": 4
 },
 "nbformat": 4,
 "nbformat_minor": 2
}
