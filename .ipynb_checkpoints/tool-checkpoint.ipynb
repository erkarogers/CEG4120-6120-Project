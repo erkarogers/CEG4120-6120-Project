{
 "cells": [
  {
   "cell_type": "code",
   "execution_count": 1,
   "id": "52b497b3",
   "metadata": {
    "ExecuteTime": {
     "end_time": "2023-03-29T06:05:52.116177Z",
     "start_time": "2023-03-29T06:05:50.491608Z"
    },
    "code_folding": []
   },
   "outputs": [
    {
     "data": {
      "text/html": [
       "<style>\n",
       ".header{\n",
       "    background-color:#dedede;\n",
       "    padding: 10px;\n",
       "}\n",
       ".main {\n",
       "    border: solid 1px;\n",
       "}\n",
       "\n",
       ".tab {\n",
       "    border: 0px;\n",
       "}\n",
       "</style>\n"
      ],
      "text/plain": [
       "<IPython.core.display.HTML object>"
      ]
     },
     "metadata": {},
     "output_type": "display_data"
    },
    {
     "data": {
      "text/html": [
       "<style>\n",
       ".header{\n",
       "    background-color:#dedede;\n",
       "    padding: 10px;\n",
       "}\n",
       ".main {\n",
       "    border: solid 1px;\n",
       "}\n",
       "\n",
       ".tab {\n",
       "    border: 0px;\n",
       "}\n",
       "</style>\n"
      ],
      "text/plain": [
       "<IPython.core.display.HTML object>"
      ]
     },
     "metadata": {},
     "output_type": "display_data"
    },
    {
     "data": {
      "text/html": [
       "<a href=\"https://www.quantum-espresso.org/Doc/INPUT_PW.html\" target=\"_blank\">INPUT_PW.html</a>\n"
      ],
      "text/plain": [
       "<IPython.core.display.HTML object>"
      ]
     },
     "metadata": {},
     "output_type": "display_data"
    },
    {
     "data": {
      "text/html": [
       "<style>\n",
       ".header{\n",
       "    background-color:#dedede;\n",
       "    padding: 10px;\n",
       "}\n",
       ".main {\n",
       "    border: solid 1px;\n",
       "}\n",
       "\n",
       ".tab {\n",
       "    border: 0px;\n",
       "}\n",
       "</style>\n"
      ],
      "text/plain": [
       "<IPython.core.display.HTML object>"
      ]
     },
     "metadata": {},
     "output_type": "display_data"
    },
    {
     "data": {
      "text/html": [
       "<style>\n",
       ".header{\n",
       "    background-color:#dedede;\n",
       "    padding: 10px;\n",
       "}\n",
       ".main {\n",
       "    border: solid 1px;\n",
       "}\n",
       "\n",
       ".tab {\n",
       "    border: 0px;\n",
       "}\n",
       "</style>\n"
      ],
      "text/plain": [
       "<IPython.core.display.HTML object>"
      ]
     },
     "metadata": {},
     "output_type": "display_data"
    }
   ],
   "source": [
    "### Import libraries\n",
    "from ipywidgets import HTML, AppLayout, VBox, Button, Tab, FloatProgress\n",
    "import os\n",
    "%run styles.ipynb\n",
    "%run pw_x.ipynb \n",
    "%run ph_x.ipynb\n",
    "%run epw_x.ipynb"
   ]
  },
  {
   "cell_type": "code",
   "execution_count": 2,
   "id": "2498d2c1",
   "metadata": {
    "ExecuteTime": {
     "end_time": "2023-03-29T06:05:52.121474Z",
     "start_time": "2023-03-29T06:05:52.119014Z"
    }
   },
   "outputs": [],
   "source": [
    "# bind Control form to output\n",
    "\n",
    "def on_simulate_btn_click(self):\n",
    "    bind_PW_X_inputs(self)      # method defined in pw_x.ipynb\n",
    "    bind_PH_X_inputs(self)      # method defined in ph_x.ipynb\n",
    "    bind_EPW_X_inputs(self)     # method defined in epw_x.ipynb\n",
    "    "
   ]
  },
  {
   "cell_type": "code",
   "execution_count": 3,
   "id": "c63a86ab",
   "metadata": {
    "ExecuteTime": {
     "end_time": "2023-03-29T06:05:52.175849Z",
     "start_time": "2023-03-29T06:05:52.126135Z"
    }
   },
   "outputs": [
    {
     "data": {
      "application/vnd.jupyter.widget-view+json": {
       "model_id": "7eea3f6d88764a6fb990baade5a98cae",
       "version_major": 2,
       "version_minor": 0
      },
      "text/plain": [
       "Box(children=(Box(children=(Button(description='Simulate', style=ButtonStyle(button_color='lightgreen'), toolt…"
      ]
     },
     "metadata": {},
     "output_type": "display_data"
    }
   ],
   "source": [
    "# Simulate\n",
    "simulate_btn = Button(description=\"Simulate\", \n",
    "                button_style='', # 'success', 'info', 'warning', 'danger' or '',                    \n",
    "                tooltip='Run Simulation'\n",
    "            )\n",
    "simulate_btn.style.button_color='lightgreen'\n",
    "simulate_btn.on_click(on_simulate_btn_click)\n",
    "\n",
    "# simulate_btn = ui.RunCommand(label=\"Simulate\", tooltip=\"Run Simulation\", start_func=start_simulation)\n",
    "progress_bar = FloatProgress(\n",
    "    value=4.5,\n",
    "    min=0,\n",
    "    max=10.0,\n",
    "    bar_style='info',\n",
    "    style={'bar_color': '#0000ff'},\n",
    "    orientation='horizontal'\n",
    ")\n",
    "\n",
    "abort_btn = Button(description=\"Abort\", disabled=True)\n",
    "# abort_btn = ui.RunCommand(label=\"Run\", tooltip=\"Abort Simulation\", start_func=abort)\n",
    "\n",
    "form_items = [\n",
    "    Box([simulate_btn], layout=form_item_layout()),\n",
    "    Box([progress_bar], layout=form_item_layout()),\n",
    "    Box([abort_btn], layout=form_item_layout())\n",
    "]\n",
    "\n",
    "simulate_box = Box(form_items, layout=box_layout(40))\n",
    "\n",
    "#simulate_box\n"
   ]
  },
  {
   "cell_type": "markdown",
   "id": "4c31c4f0",
   "metadata": {},
   "source": [
    "## Combine All Tabs"
   ]
  },
  {
   "cell_type": "code",
   "execution_count": 4,
   "id": "ced626a3",
   "metadata": {
    "ExecuteTime": {
     "end_time": "2023-03-29T06:05:52.364853Z",
     "start_time": "2023-03-29T06:05:52.178822Z"
    }
   },
   "outputs": [
    {
     "data": {
      "application/vnd.jupyter.widget-view+json": {
       "model_id": "33722641ab634c4c9d77f067fa1ccdb6",
       "version_major": 2,
       "version_minor": 0
      },
      "text/plain": [
       "AppLayout(children=(HTML(value='<h2>SEMICONDUCTOR PHYSICS SIMULATION TOOL</h2>', layout=Layout(grid_area='head…"
      ]
     },
     "metadata": {},
     "output_type": "display_data"
    }
   ],
   "source": [
    "header = HTML(\n",
    "    value=\"<h2>SEMICONDUCTOR PHYSICS SIMULATION TOOL</h2>\",\n",
    "    placeholder='Title',\n",
    "    layout=Layout(height='auto')\n",
    ")\n",
    "header.add_class('header')\n",
    "\n",
    "tool_tabs = Tab()\n",
    "tab_contents = [pw_x_tabs, ph_x_box, epw_x_tabs, simulate_box]\n",
    "tool_tabs.children = tab_contents\n",
    "\n",
    "tool_tabs.set_title(0, \"PW.x Inputs\")\n",
    "tool_tabs.set_title(1, \"PH.x Inputs\")\n",
    "tool_tabs.set_title(2, \"EPW.x Inputs\")\n",
    "tool_tabs.set_title(3, \"Simulate\")\n",
    "\n",
    "app = AppLayout(center=tool_tabs, header=header, pane_heights=[1, 5, '0'])\n",
    "app.add_class(\"main\")\n"
   ]
  },
  {
   "cell_type": "code",
   "execution_count": null,
   "id": "3bbe247f",
   "metadata": {},
   "outputs": [],
   "source": []
  }
 ],
 "metadata": {
  "kernelspec": {
   "display_name": "Python 3 (ipykernel)",
   "language": "python",
   "name": "python3"
  },
  "language_info": {
   "codemirror_mode": {
    "name": "ipython",
    "version": 3
   },
   "file_extension": ".py",
   "mimetype": "text/x-python",
   "name": "python",
   "nbconvert_exporter": "python",
   "pygments_lexer": "ipython3",
   "version": "3.9.12"
  },
  "toc": {
   "base_numbering": 1,
   "nav_menu": {},
   "number_sections": true,
   "sideBar": true,
   "skip_h1_title": false,
   "title_cell": "Table of Contents",
   "title_sidebar": "Contents",
   "toc_cell": false,
   "toc_position": {},
   "toc_section_display": true,
   "toc_window_display": false
  },
  "varInspector": {
   "cols": {
    "lenName": 16,
    "lenType": 16,
    "lenVar": 40
   },
   "kernels_config": {
    "python": {
     "delete_cmd_postfix": "",
     "delete_cmd_prefix": "del ",
     "library": "var_list.py",
     "varRefreshCmd": "print(var_dic_list())"
    },
    "r": {
     "delete_cmd_postfix": ") ",
     "delete_cmd_prefix": "rm(",
     "library": "var_list.r",
     "varRefreshCmd": "cat(var_dic_list()) "
    }
   },
   "types_to_exclude": [
    "module",
    "function",
    "builtin_function_or_method",
    "instance",
    "_Feature"
   ],
   "window_display": false
  }
 },
 "nbformat": 4,
 "nbformat_minor": 5
}
