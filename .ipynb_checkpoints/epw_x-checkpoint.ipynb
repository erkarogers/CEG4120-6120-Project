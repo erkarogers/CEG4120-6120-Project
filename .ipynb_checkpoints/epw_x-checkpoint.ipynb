{
 "cells": [
  {
   "cell_type": "markdown",
   "id": "37addef9",
   "metadata": {},
   "source": [
    "# EPW Step (EPW.x)"
   ]
  },
  {
   "cell_type": "code",
   "execution_count": 1,
   "id": "b61a59fc",
   "metadata": {
    "ExecuteTime": {
     "end_time": "2023-03-18T02:14:04.394718Z",
     "start_time": "2023-03-18T02:14:01.739516Z"
    }
   },
   "outputs": [],
   "source": [
    "### Import libraries\n",
    "from ipywidgets import Tab, Box, VBox, GridBox, Layout\n",
    "from ipywidgets import Label, IntText, FloatText, Dropdown, Text, Textarea\n",
    "import os\n",
    "%run styles.ipynb"
   ]
  },
  {
   "cell_type": "markdown",
   "id": "a8d752c5",
   "metadata": {},
   "source": [
    "## Setup"
   ]
  },
  {
   "cell_type": "code",
   "execution_count": 5,
   "id": "486c66ef",
   "metadata": {
    "ExecuteTime": {
     "end_time": "2023-03-18T02:14:04.579045Z",
     "start_time": "2023-03-18T02:14:04.396981Z"
    }
   },
   "outputs": [
    {
     "data": {
      "application/vnd.jupyter.widget-view+json": {
       "model_id": "8281a967e93a4c00ac9ed4e3642599d4",
       "version_major": 2,
       "version_minor": 0
      },
      "text/plain": [
       "Box(children=(Box(children=(Label(value='kmaps'), Dropdown(layout=Layout(width='30%'), options={'false': '.fal…"
      ]
     },
     "metadata": {},
     "output_type": "display_data"
    }
   ],
   "source": [
    "# Setup\n",
    "\n",
    "# option for turning on/off reading in kmaps from file\n",
    "kmaps = Dropdown(name=\"kmaps\", value=\".false.\", options={\"false\": \".false.\", \"true\": \".true.\"}, layout=input_layout(30))\n",
    "\n",
    "# option for turning on/off writing coarse bloch space electron phonon matrix elements (.epb files) to file\n",
    "epbwrite = Dropdown(name=\"epbwrite\", value=\".true.\", options={\"false\": \".false.\", \"true\": \".true.\"}, layout=input_layout(30))\n",
    "    \n",
    "# option for turning on/off reading coarse bloch space electron phonon matrix elements (.epb files) from file\n",
    "epbread = Dropdown(name=\"epbread\", value=\".false.\", options={\"false\": \".false.\", \"true\": \".true.\"}, layout=input_layout(30))\n",
    "\n",
    "# option for turning on/off writing coarse wannier space electron phonon matrix elements (.epw files) to file\n",
    "epwwrite = Dropdown(name=\"epwwrite\", value=\".true.\", options={\"false\": \".false.\", \"true\": \".true.\"}, layout=input_layout(30))\n",
    "    \n",
    "# epwread option for turning on/off reading coarse wannier space electron phonon matrix elements (.epw files) from file\n",
    "epwread = Dropdown(name=\"epwread\", value=\".false.\", options={\"false\": \".false.\", \"true\": \".true.\"},\n",
    "                   layout=input_layout(30)\n",
    "                  )\n",
    "\n",
    "# option for polar material correction to Wannier interpolation\n",
    "lpolar = Dropdown(name=\"Correct for polar materials\",value=\"false\",options=[\"false\", \"true\"], layout=input_layout(30))\n",
    "\n",
    "# create Wannier conversion \n",
    "wannierize = Dropdown(name=\"Center Wannier Functions\",value=\"true\",options=[\"false\", \"true\"], layout=input_layout(30))\n",
    "\n",
    "form_items = [\n",
    "    Box([Label(value='kmaps'), kmaps], layout=form_item_layout()),\n",
    "    Box([Label(value='epbwrite'), epbwrite], layout=form_item_layout()),\n",
    "    Box([Label(value='epbread'), epbread], layout=form_item_layout()),\n",
    "    Box([Label(value='epwwrite'), epwwrite], layout=form_item_layout()),\n",
    "    Box([Label(value='Correct for polar materials'), lpolar], layout=form_item_layout()),\n",
    "    Box([Label(value='Center Wannier Functions'), wannierize], layout=form_item_layout())\n",
    "]\n",
    "\n",
    "setup_box = Box(form_items, layout=box_layout(30))\n",
    "setup_box"
   ]
  },
  {
   "cell_type": "markdown",
   "id": "2c4ee54b",
   "metadata": {},
   "source": [
    "## Wannier"
   ]
  },
  {
   "cell_type": "code",
   "execution_count": 11,
   "id": "f3015c47",
   "metadata": {
    "ExecuteTime": {
     "end_time": "2023-03-18T02:14:04.722387Z",
     "start_time": "2023-03-18T02:14:04.583315Z"
    }
   },
   "outputs": [
    {
     "data": {
      "application/vnd.jupyter.widget-view+json": {
       "model_id": "e9625aa139384067a95a5c7c6f8e2bbb",
       "version_major": 2,
       "version_minor": 0
      },
      "text/plain": [
       "Box(children=(Box(children=(Label(value='Number of Iterations'), IntText(value=1500, layout=Layout(width='30%'…"
      ]
     },
     "metadata": {},
     "output_type": "display_data"
    }
   ],
   "source": [
    "# Wannier\n",
    "\n",
    "# number of iterations for creating wannier function representations\n",
    "num_iter = IntText(name=\"Number of Iterations\", value=1500, layout=input_layout(30))\n",
    "\n",
    "# verbosity of EPW output file\n",
    "iprint = IntText(name=\"Verbosity Level\", value=2, layout=input_layout(30))\n",
    "\n",
    "# Maximum value of the disentanglement window. See wannier90 documentation.\n",
    "dis_win_max = FloatText(name=\"Disentaglement Window Max\", value=18.0, layout=input_layout(30))\n",
    "\n",
    "# Window which includes frozen states for Wannier90. See wannier90 documentation.\n",
    "dis_froz_max = FloatText(name=\"Window Max for Frozen States\",value=8.5, layout=input_layout(30))\n",
    "\n",
    "# Initial wannier projections, to be passed to Wannier90. These must agree with nbnd if specified other than the default 'random' setting (number of desired wannier projections = number of computed bands)\n",
    "projections = Textarea(name=\"Projections?\", value=\"proj(1) = 'random'\", layout=input_layout(50))\n",
    "\n",
    "\n",
    "form_items = [\n",
    "    Box([Label(value='Number of Iterations'), num_iter], layout=form_item_layout()),\n",
    "    Box([Label(value='Verbosity Level'), iprint], layout=form_item_layout()),\n",
    "    Box([Label(value='Disentaglement Window Max'), dis_win_max], layout=form_item_layout()),\n",
    "    Box([Label(value='Window Max for Frozen States'), dis_froz_max], layout=form_item_layout()),\n",
    "    Box([Label(value='Projections?'), projections], layout=form_item_layout())\n",
    "]\n",
    "\n",
    "wannier_box = Box(form_items, layout=box_layout(40))\n",
    "\n",
    "wannier_box\n"
   ]
  },
  {
   "cell_type": "markdown",
   "id": "f64cb044",
   "metadata": {},
   "source": [
    "## Misc"
   ]
  },
  {
   "cell_type": "code",
   "execution_count": 15,
   "id": "081d6b76",
   "metadata": {
    "ExecuteTime": {
     "end_time": "2023-03-18T02:14:05.047173Z",
     "start_time": "2023-03-18T02:14:04.725485Z"
    }
   },
   "outputs": [
    {
     "data": {
      "application/vnd.jupyter.widget-view+json": {
       "model_id": "73b4d2755a6940bcbc26bd7210c15823",
       "version_major": 2,
       "version_minor": 0
      },
      "text/plain": [
       "Box(children=(Box(children=(Label(value='Print Electron-Photon Vertexs'), Dropdown(layout=Layout(width='30%'),…"
      ]
     },
     "metadata": {},
     "output_type": "display_data"
    }
   ],
   "source": [
    "# Misc\n",
    "\n",
    "# option to print all electron-phonon coupling elements to output file\n",
    "# will create a masssive file that will take a long time to write, use caution when setting to .true.\n",
    "prgtkk = Dropdown(name=\"Print Electron-Photon Vertexs\", value=\".false.\", \n",
    "                  options={\"false\": \".false.\", \"true\": \".true.\"}, layout=input_layout(30))\n",
    "\n",
    "# option to calculate optical absorption function\n",
    "lindabs = Dropdown(name=\"Calculate Optical Parameters\", value=\".true.\", \n",
    "                   options={\"false\": \".false.\", \"true\": \".true.\"}, layout=input_layout(30))\n",
    "                                                                                                                                                                           \n",
    "# scissor shift to correct for DFT Bandgap narrowing\n",
    "scissor = FloatText(name=\"Scissor Shift\", value=0, layout=input_layout(30))\n",
    "\n",
    "# lowest optical frequency of interest, in eV\n",
    "omegamin = FloatText(name=\"Min Photon Energy\", value=0.05, layout=input_layout(30) )\n",
    "\n",
    "# highest optical frequency of interest, in eV\n",
    "omegamax = FloatText( name=\"Max Photon Energy\", value=0.05, layout=input_layout(30))\n",
    "\n",
    "# increment for sweeping optical frequencies, in eV\n",
    "omegastep = FloatText(name=\"Steps in Photon Energy\", value=0.00, layout=input_layout(30))\n",
    "                                                                                                                                                                            \n",
    "# material's index of refraction\n",
    "n_r = FloatText(name=\"Refractive Index\", value=3.4, layout=input_layout(30))\n",
    "\n",
    "# Width of the Fermi surface window to take into account states in the self-energy delta functions in eV. Narrowing this value reduces the FloatText of bands included in the selfenergy calculations.\n",
    "fsthick = FloatText(name=\"Band Gap Width\", value=4.0, layout=input_layout(30))\n",
    " \n",
    "# system temperature in Kelvin\n",
    "temps = FloatText(name=\"Temperature (K)\", value=300, layout=input_layout(30))\n",
    "\n",
    "# Smearing in the energy-conserving delta functions in eV\n",
    "degaussw = FloatText(name=\"Step Function Broadening Parameter\", value=0.005, layout=input_layout(30))\n",
    "\n",
    "degaussq = FloatText(name=\"User Specific Fermi Energy\", value=0.05, layout=input_layout(30))\n",
    "\n",
    "# option to specify fermi energy, such as from prior nscf step\n",
    "efermi_read = Dropdown(name=\"Fermi Energy\", value=\".true.\",\n",
    "                       options={\"false\": \".false.\", \"true\": \".true.\"}, layout=input_layout(30))\n",
    "\n",
    "form_items = [\n",
    "    Box([Label(value='Print Electron-Photon Vertexs'), prgtkk], layout=form_item_layout()),\n",
    "    Box([Label(value='Calculate Optical Parameters'), lindabs], layout=form_item_layout()),\n",
    "    Box([Label(value='Scissor Shift'), scissor], layout=form_item_layout()),\n",
    "    Box([Label(value='Min Photon Energy'), omegamin], layout=form_item_layout()),\n",
    "    Box([Label(value='Max Photon Energy'), omegamax], layout=form_item_layout()),\n",
    "    Box([Label(value='Steps Photon Energy'), omegastep], layout=form_item_layout()),\n",
    "    Box([Label(value='Refractive Index'), n_r], layout=form_item_layout()),\n",
    "    Box([Label(value='Band Gap Width'), fsthick], layout=form_item_layout()),\n",
    "    Box([Label(value='Temperature (K)'), temps], layout=form_item_layout()),\n",
    "    Box([Label(value='Step Function Broadening Parameter'), degaussw], layout=form_item_layout()),\n",
    "    Box([Label(value='User Specific Fermi Energy'), degaussq], layout=form_item_layout()),\n",
    "    Box([Label(value='Fermi Energy'), efermi_read], layout=form_item_layout())\n",
    "]\n",
    "\n",
    "misc_box = Box(form_items, layout=box_layout(35))\n",
    "misc_box\n"
   ]
  },
  {
   "cell_type": "markdown",
   "id": "055947f4",
   "metadata": {},
   "source": [
    "## Mesh Sampling"
   ]
  },
  {
   "cell_type": "code",
   "execution_count": 27,
   "id": "a8184aab",
   "metadata": {
    "ExecuteTime": {
     "end_time": "2023-03-18T02:14:05.219948Z",
     "start_time": "2023-03-18T02:14:05.049395Z"
    }
   },
   "outputs": [
    {
     "data": {
      "application/vnd.jupyter.widget-view+json": {
       "model_id": "fca8cca4827d4a39ab26dee76a593778",
       "version_major": 2,
       "version_minor": 0
      },
      "text/plain": [
       "Box(children=(Box(children=(Label(value='nkf1'), IntText(value=0, layout=Layout(width='30%'))), layout=Layout(…"
      ]
     },
     "metadata": {},
     "output_type": "display_data"
    }
   ],
   "source": [
    "# Mesh Sampling\n",
    "\n",
    "# kpoints in 100 crystal direction, for sampling periodic cell in reciprocal space in the electronic structure part of the final wannier interpolation\n",
    "nkf1 = IntText(name=\"nkf1\",cvalue=20, layout=input_layout(30))       \n",
    "\n",
    "# kpoints in 010 crystal direction, for sampling periodic cell in reciprocal space in the electronic structure part of the final wannier interpolation\n",
    "nkf2 = IntText(name=\"nkf2\", value=20, layout=input_layout(30))  \n",
    "\n",
    "# kpoints in 001 crystal direction, for sampling periodic cell in reciprocal space in the electronic structure part of the final wannier interpolation\n",
    "nkf3 = IntText(name=\"nkf3\", value=20, layout=input_layout(30)) \n",
    "\n",
    "# fine mesh kpoints in 100 crystal direction, for sampling periodic cell in reciprocal space in the electronic structure part of the final wannier interpolation\n",
    "nqf1 = IntText(name=\"nqf1\", value=20, layout=input_layout(30)) \n",
    "\n",
    "# fine kpoints in 010 crystal direction, for sampling periodic cell in reciprocal space in the electronic structure part of the final wannier interpolation\n",
    "nqf2 = IntText(name=\"nqf2\", value=20, layout=input_layout(30)) \n",
    "\n",
    "# fine kpoints in 001 crystal direction, for sampling periodic cell in reciprocal space in the electronic structure part of the final wannier interpolation\n",
    "nqf3 = IntText(name=\"nqf3\", value=20, layout=input_layout(30)) \n",
    "\n",
    "form_items = [\n",
    "    Box([Label(value='nkf1'), nkf1], layout=form_item_layout()),\n",
    "    Box([Label(value='nkf2'), nkf2], layout=form_item_layout()),\n",
    "    Box([Label(value='nkf3'), nkf3], layout=form_item_layout()),\n",
    "    Box([Label(value='nqf1'), nqf3], layout=form_item_layout()),\n",
    "    Box([Label(value='nqf2'), nqf2], layout=form_item_layout()),\n",
    "    Box([Label(value='nqf3'), nqf3], layout=form_item_layout()),\n",
    "]\n",
    "\n",
    "mesh_box = Box(form_items, layout=box_layout(20))\n",
    "\n",
    "mesh_box\n"
   ]
  },
  {
   "cell_type": "markdown",
   "id": "a65bc526",
   "metadata": {},
   "source": [
    "## Combine UI Forms for this section"
   ]
  },
  {
   "cell_type": "code",
   "execution_count": 28,
   "id": "ee40530a",
   "metadata": {
    "ExecuteTime": {
     "end_time": "2023-03-18T02:14:05.282214Z",
     "start_time": "2023-03-18T02:14:05.222162Z"
    }
   },
   "outputs": [
    {
     "data": {
      "application/vnd.jupyter.widget-view+json": {
       "model_id": "4bfb4607f0fd4f7a8543c5a78f1b8156",
       "version_major": 2,
       "version_minor": 0
      },
      "text/plain": [
       "Tab(children=(Box(children=(Box(children=(Label(value='kmaps'), Dropdown(layout=Layout(width='30%'), options={…"
      ]
     },
     "metadata": {},
     "output_type": "display_data"
    }
   ],
   "source": [
    "# combine forms into tabs\n",
    "epw_x_tabs = Tab()\n",
    "tab_contents = [setup_box, wannier_box, misc_box, mesh_box]\n",
    "children = [content for content in tab_contents]\n",
    "epw_x_tabs.children = children\n",
    "\n",
    "epw_x_tabs.set_title(0, \"Setup\")\n",
    "epw_x_tabs.set_title(1, \"Wannier\")\n",
    "epw_x_tabs.set_title(2, \"Misc\")\n",
    "epw_x_tabs.set_title(3, \"Mesh Sampling\")\n",
    "\n",
    "epw_x_tabs"
   ]
  },
  {
   "cell_type": "code",
   "execution_count": 8,
   "id": "8610d005",
   "metadata": {},
   "outputs": [],
   "source": [
    "## NON USER INPUTS"
   ]
  },
  {
   "cell_type": "code",
   "execution_count": 9,
   "id": "8726a561",
   "metadata": {},
   "outputs": [],
   "source": [
    "# option for centering Wannier function at center of Wigner-Seitz cell\n",
    "use_ws = '.false.'\n",
    "\n",
    "w90_data = '''\n",
    "wdata(1) = 'bands_plot = .true.'\n",
    "wdata(2) = 'begin kpoint_path'\n",
    "wdata(3) = 'L 0.50 0.00 0.00 G 0.00 0.00 0.00'\n",
    "wdata(4) = 'G 0.00 0.00 0.00 X 0.50 0.50 0.00'\n",
    "wdata(5) = 'end kpoint_path'\n",
    "wdata(6) = 'bands_plot_format = gnuplot'\n",
    "wdata(7) = 'guiding_centres = .true.'\n",
    "wdata(8) = 'dis_num_iter = 500'\n",
    "wdata(9) = 'num_print_cycles = 10'\n",
    "wdata(10) = 'dis_mix_ratio = 1.0'\n",
    "wdata(11) = 'use_ws_distance = T'\n",
    "'''\n",
    "\n",
    "epw_cores = 40\n",
    "epw_walltime = '00:30:00'"
   ]
  },
  {
   "cell_type": "markdown",
   "id": "f0385855",
   "metadata": {},
   "source": [
    "## Bind Inputs to Outputs"
   ]
  },
  {
   "cell_type": "code",
   "execution_count": 10,
   "id": "718c2375",
   "metadata": {},
   "outputs": [],
   "source": [
    "def bind_EPW_X_inputs(self):\n",
    "        \n",
    "    epw_inputs = {\n",
    "    'material_prefix': material_prefix.value,\n",
    "    'atomic_mass': atomic_mass.value,\n",
    "    'outdir': outdir.value,\n",
    "    'kmaps': kmaps.value,\n",
    "    'epbwrite': epbwrite.value,\n",
    "    'epbread': epbread.value,\n",
    "    'epwwrite': epwwrite.value,\n",
    "    'epwread': epwread.value,\n",
    "    'lpolar': lpolar.value,\n",
    "    'use_ws': use_ws,\n",
    "    'nbndsub': nbnd, \n",
    "    'wannierize': wannierize.value,\n",
    "    'num_iter': num_iter.value,\n",
    "    'iprint': iprint.value,\n",
    "    'dis_win_max': dis_win_max.value,\n",
    "    'dis_froz_max': dis_froz_max.value,\n",
    "    'proj': projections.value,\n",
    "    'wdata': w90_data,    \n",
    "    'prtgkk': prgtkk.value,\n",
    "    'lindabs': lindabs.value,\n",
    "    'scissor': scissor.value,\n",
    "    'omegamin': omegamin.value,                                                                                                                                                                         \n",
    "    'omegamax': omegamax.value,\n",
    "    'omegastep': omegastep.value,\n",
    "    'n_r': n_r.value,  \n",
    "    'fsthick': fsthick.value,\n",
    "    'temps': temps.value,\n",
    "    'degaussw': degaussw.value,\n",
    "    'degaussq': degaussq.value,\n",
    "    'efermi_read': efermi_read.value,\n",
    "    'fermi_energy': \"\", #fermi_energy\n",
    "    'nk1': kptx.value,\n",
    "    'nk2': kpty.value,\n",
    "    'nk3': kptz.value,\n",
    "    'nq1': nq1.value,\n",
    "    'nq2': nq2.value,\n",
    "    'nq3': nq3.value,\n",
    "    'nkf1': nkf1.value,\n",
    "    'nkf2': nkf2.value,\n",
    "    'nkf3': nkf3.value,\n",
    "    'nqf1': nqf1.value,\n",
    "    'nqf2': nqf2.value,\n",
    "    'nqf3': nqf2.value,\n",
    "    'qpoint_list': \"\" #qpoint_list_append\n",
    "    }\n",
    "    \n",
    "    build_EPW_Input(epw_inputs, material_prefix.value)\n",
    "        "
   ]
  },
  {
   "cell_type": "code",
   "execution_count": 11,
   "id": "575be429",
   "metadata": {},
   "outputs": [],
   "source": [
    "def build_EPW_Input(epw_inputs, material_prefix):\n",
    "    print('BUILDING EPW INPUT FILE')\n",
    "    #Build epw input file\n",
    "    epw_name = 'epw-%s.in' % material_prefix #assigns epw input file to variable epw_name \n",
    "\n",
    "    input_file = '''\n",
    "    --\n",
    "    &inputepw\n",
    "    prefix = '{material_prefix}'\n",
    "    amass(1) = {atomic_mass}\n",
    "    outdir = '{outdir}'\n",
    "    iverbosity = 1\n",
    "    dvscf_dir = './save'\n",
    "\n",
    "    elph = .true.\n",
    "    kmaps = {kmaps}\n",
    "    epbwrite = {epbwrite}\n",
    "    epbread = {epbread}\n",
    "    epwwrite = {epwwrite}\n",
    "    epwread = {epwread}\n",
    "    etf_mem = 1\n",
    "\n",
    "    lpolar = {lpolar}\n",
    "    use_ws = {use_ws}\n",
    "\n",
    "    nbndsub = {nbndsub}\n",
    "\n",
    "    wannierize = {wannierize}\n",
    "    num_iter = {num_iter}\n",
    "    iprint = {iprint}\n",
    "    dis_win_max = {dis_win_max}\n",
    "    dis_froz_max= {dis_froz_max}\n",
    "    {proj}\n",
    "    {wdata}\n",
    "\n",
    "    elecselfen = .false.\n",
    "    phonselfen = .false.\n",
    "    a2f = .false.\n",
    "    prtgkk = {prtgkk}\n",
    "\n",
    "    efermi_read = {efermi_read}\n",
    "    fermi_energy = {fermi_energy}\n",
    "\n",
    "    lindabs = {lindabs}\n",
    "    scissor = {scissor}                                                                                                                                                                           \n",
    "    omegamin = {omegamin}                                                                                                                                                                            \n",
    "    omegamax = {omegamax}                                                                                                                                                                         \n",
    "    omegastep= {omegastep}                                                                                                                                                                         \n",
    "    n_r = {n_r}\n",
    "\n",
    "\n",
    "    fsthick = {fsthick}\n",
    "    temps = {temps}\n",
    "    degaussw = {degaussw}\n",
    "    degaussq = {degaussq}\n",
    "\n",
    "    nk1 = {nk1}\n",
    "    nk2 = {nk2}\n",
    "    nk3 = {nk3}\n",
    "    nq1 = {nq1}\n",
    "    nq2 = {nq2}\n",
    "    nq3 = {nq3}\n",
    "\n",
    "    nkf1 = {nkf1}\n",
    "    nkf2 = {nkf2}\n",
    "    nkf3 = {nkf3}\n",
    "    nqf1 = {nqf1}\n",
    "    nqf2 = {nqf2}\n",
    "    nqf3 = {nqf3}\n",
    "    /\n",
    "    {qpoint_list}\n",
    "    '''.format(**epw_inputs) #assigns information in ''' ''' to variable inputfile\n",
    "\n",
    "    with open(epw_name, \"w\") as f: #opens file epw_name\n",
    "        f.write(input_file) #writes inputfile to file epw_na"
   ]
  }
 ],
 "metadata": {
  "kernelspec": {
   "display_name": "Python 3 (ipykernel)",
   "language": "python",
   "name": "python3"
  },
  "language_info": {
   "codemirror_mode": {
    "name": "ipython",
    "version": 3
   },
   "file_extension": ".py",
   "mimetype": "text/x-python",
   "name": "python",
   "nbconvert_exporter": "python",
   "pygments_lexer": "ipython3",
   "version": "3.9.12"
  },
  "toc": {
   "base_numbering": 1,
   "nav_menu": {},
   "number_sections": true,
   "sideBar": true,
   "skip_h1_title": false,
   "title_cell": "Table of Contents",
   "title_sidebar": "Contents",
   "toc_cell": false,
   "toc_position": {},
   "toc_section_display": true,
   "toc_window_display": false
  },
  "varInspector": {
   "cols": {
    "lenName": 16,
    "lenType": 16,
    "lenVar": 40
   },
   "kernels_config": {
    "python": {
     "delete_cmd_postfix": "",
     "delete_cmd_prefix": "del ",
     "library": "var_list.py",
     "varRefreshCmd": "print(var_dic_list())"
    },
    "r": {
     "delete_cmd_postfix": ") ",
     "delete_cmd_prefix": "rm(",
     "library": "var_list.r",
     "varRefreshCmd": "cat(var_dic_list()) "
    }
   },
   "types_to_exclude": [
    "module",
    "function",
    "builtin_function_or_method",
    "instance",
    "_Feature"
   ],
   "window_display": false
  }
 },
 "nbformat": 4,
 "nbformat_minor": 5
}
