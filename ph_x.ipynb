{
 "cells": [
  {
   "cell_type": "markdown",
   "id": "ae1a79fd",
   "metadata": {},
   "source": [
    "# DFPT Phonon Step (PH.X)"
   ]
  },
  {
   "cell_type": "code",
   "execution_count": 1,
   "id": "c8b9b86c",
   "metadata": {
    "ExecuteTime": {
     "end_time": "2023-04-13T20:14:26.863967Z",
     "start_time": "2023-04-13T20:14:24.091073Z"
    }
   },
   "outputs": [
    {
     "data": {
      "text/html": [
       "<style>\n",
       ".header{\n",
       "    background-color:#dedede;\n",
       "    padding: 10px;\n",
       "}\n",
       ".main {\n",
       "    border: solid 1px;\n",
       "}\n",
       "\n",
       ".tab {\n",
       "    border: 0px;\n",
       "}\n",
       "</style>\n"
      ],
      "text/plain": [
       "<IPython.core.display.HTML object>"
      ]
     },
     "metadata": {},
     "output_type": "display_data"
    }
   ],
   "source": [
    "### Import libraries\n",
    "from ipywidgets import Style,HBox, Box, Layout, HTML, Button, Label, IntText, FloatText, Dropdown\n",
    "import hublib.use\n",
    "import time\n",
    "%run styles.ipynb\n",
    "%run styles.ipynb\n",
    "%run color_changer.ipynb"
   ]
  },
  {
   "cell_type": "markdown",
   "id": "19668523-b23d-4454-89c9-8adcff611ad1",
   "metadata": {},
   "source": [
    "## Documentation Link"
   ]
  },
  {
   "cell_type": "markdown",
   "id": "077be9a6",
   "metadata": {
    "ExecuteTime": {
     "end_time": "2023-03-31T17:59:25.859502Z",
     "start_time": "2023-03-31T17:59:25.855581Z"
    }
   },
   "source": [
    "Check out the documentation on inputs variables needed for this step with this link:\n",
    "<a href=\"https://www.quantum-espresso.org/Doc/INPUT_PH.html#idm218\" target=\"_blank\">INPUT_PW.html</a>"
   ]
  },
  {
   "cell_type": "code",
   "execution_count": 2,
   "id": "36415cbb-17ae-4795-9968-87be8fe70986",
   "metadata": {
    "ExecuteTime": {
     "end_time": "2023-04-13T20:14:26.874626Z",
     "start_time": "2023-04-13T20:14:26.866039Z"
    }
   },
   "outputs": [],
   "source": [
    "documentation_link = HTML(value='<a href=\"https://www.quantum-espresso.org/Doc/INPUT_PH.html#idm218\" target=\"_blank\">INPUT_PH.html</a>')"
   ]
  },
  {
   "cell_type": "markdown",
   "id": "c76b991d",
   "metadata": {},
   "source": [
    "## PH.X Inputs"
   ]
  },
  {
   "cell_type": "code",
   "execution_count": 3,
   "id": "5221306c",
   "metadata": {
    "ExecuteTime": {
     "end_time": "2023-04-13T20:14:27.036425Z",
     "start_time": "2023-04-13T20:14:26.877044Z"
    }
   },
   "outputs": [],
   "source": [
    "# ph.x inputs\n",
    "\n",
    "#qpoints in 100 crystal direction, for sampling periodic cell in reciprocal space in the phonon calculation\n",
    "nq1 = IntText(name=\"nq1\", value= 3)\n",
    "\n",
    "#qpoints in 010 crystal direction, for sampling periodic cell in reciprocal space in the phonon calculation\n",
    "nq2 = IntText(name=\"nq2\", value= 3)\n",
    "# qpoints in 001 crystal direction, for sampling periodic cell in reciprocal space in the phonon calculation\n",
    "nq3 = IntText(name=\"nq3\", value= 3)\n",
    "\n",
    "# convergence threshold for phonon calculation\n",
    "self_consistency_threshold = FloatText(name=\"Self-Consistency Threshold\", value=1.0e-12)\n",
    "\n",
    "# option for recovering from previous failed/timed out calculation\n",
    "recover = Dropdown(name=\"recover\", value=\"false\", options=[\"true\",\"false\"])\n",
    "\n",
    "\n",
    "####\n",
    "# Creates the info buttons and adds in the description when you hover your cursor over the button\n",
    "\n",
    "icon_nq1 = Button( icon='fa-info-circle',\n",
    "                                tooltip='Parameters of the Monkhorst-Pack grid (no offset) used' '\\n'\n",
    "                                        'when ldisp=.true. Same meaning as for nk1, nk2, nk3 in the input of pw.x.' '\\n'\n",
    "                                         '\\n''DEFAULT: 0,0,0' , \n",
    "                                layout = Layout(width='40px'))\n",
    "\n",
    "icon_nq2 = Button( icon='fa-info-circle',\n",
    "                                tooltip='Parameters of the Monkhorst-Pack grid (no offset) used' '\\n'\n",
    "                                        'when ldisp=.true. Same meaning as for nk1, nk2, nk3 in the input of pw.x.''\\n'\n",
    "                                          '\\n''DEFAULT: 0,0,0', \n",
    "                                layout = Layout(width='40px'))\n",
    "\n",
    "icon_nq3 = Button( icon='fa-info-circle',\n",
    "                                tooltip='Parameters of the Monkhorst-Pack grid (no offset) used' '\\n'\n",
    "                                        'when ldisp=.true. Same meaning as for nk1, nk2, nk3 in the input of pw.x.''\\n'\n",
    "                                         '\\n' 'DEFAULT: 0,0,0', \n",
    "                                layout = Layout(width='40px'))\n",
    "\n",
    "icon_self_consistency_threshold = Button( icon='fa-info-circle',\n",
    "                                tooltip='Threshold for self-consistency.' '\\n'\n",
    "                                         '\\n''DEFAULT:1e-12', \n",
    "                                layout = Layout(width='40px'))\n",
    "\n",
    "icon_recover = Button( icon='fa-info-circle',\n",
    "                                tooltip=' If .true. restart from an interrupted run.' '\\n'\n",
    "                                          '\\n''DEFAULT: false', \n",
    "                                layout = Layout(width='40px'))\n",
    "\n",
    "\n",
    "\n",
    "\n",
    "\n",
    "form_items = [\n",
    "    \n",
    "    HBox([Label(value='nq1'),\n",
    "          Box([nq1, icon_nq1])\n",
    "         ], layout = form_item_layout()),\n",
    "        \n",
    "    HBox([Label(value='nq2'), \n",
    "          Box([nq2, icon_nq2])\n",
    "         ],layout=form_item_layout()),\n",
    "    \n",
    "     HBox([Label(value='nq3'), \n",
    "          Box([nq3, icon_nq3])\n",
    "         ],layout=form_item_layout()),\n",
    "    \n",
    "     HBox([Label(value='Self-Consistency Threshold'), \n",
    "          Box([self_consistency_threshold, icon_self_consistency_threshold])\n",
    "         ],layout=form_item_layout()),\n",
    "    \n",
    "      HBox([Label(value='Recover'), \n",
    "          Box([recover, icon_recover])\n",
    "         ],layout=form_item_layout()),   \n",
    "    \n",
    "    HBox([Label(value='Documentation URL:'), documentation_link], layout=Layout())\n",
    "    \n",
    "    #Box([Label(value='nq1'), nq1], layout=form_item_layout()),\n",
    "    #Box([Label(value='nq2'), nq2], layout=form_item_layout()),\n",
    "    #Box([Label(value='nq3'), nq3], layout=form_item_layout()),\n",
    "    #Box([Label(value='Self-Consistency Threshold'), self_consistency_threshold], layout=form_item_layout()),\n",
    "    #Box([Label(value='Recover'), recover], layout=form_item_layout())\n",
    "]\n",
    "\n",
    "ph_x_box = Box(form_items, layout=box_layout(45))\n",
    "\n",
    "#ph_x_box\n"
   ]
  },
  {
   "cell_type": "markdown",
   "id": "8edaecde",
   "metadata": {},
   "source": [
    "## NON USER INPUTS"
   ]
  },
  {
   "cell_type": "code",
   "execution_count": 4,
   "id": "6d26caeb",
   "metadata": {
    "ExecuteTime": {
     "end_time": "2023-04-13T20:14:27.041464Z",
     "start_time": "2023-04-13T20:14:27.039221Z"
    }
   },
   "outputs": [],
   "source": [
    "#input parameters\n",
    "#&inputph                                                                                                                                                                                                                                                                                                                                                                                                                                                                                                                                                                                                                                                                                                                                                                                                                                                                                 \n",
    "search_sym = '.false.'   \n",
    "ph_cores = 20\n",
    "ph_walltime = '00:30:00'"
   ]
  },
  {
   "cell_type": "markdown",
   "id": "de5f8cfe",
   "metadata": {},
   "source": [
    "## Bind inputs to outputs"
   ]
  },
  {
   "cell_type": "code",
   "execution_count": 5,
   "id": "46a68311",
   "metadata": {
    "ExecuteTime": {
     "end_time": "2023-04-13T20:14:27.050227Z",
     "start_time": "2023-04-13T20:14:27.043538Z"
    }
   },
   "outputs": [],
   "source": [
    "def bind_PH_X_inputs(self):\n",
    "    \n",
    "    ph_inputs = {\n",
    "        'material_prefix': material_prefix.value,\n",
    "        'nq1': nq1.value,\n",
    "        'nq2': nq2.value,\n",
    "        'nq3': nq3.value,\n",
    "        'tr2_ph': self_consistency_threshold.value,\n",
    "        'recover': recover.value,\n",
    "        'search_sym': search_sym\n",
    "    }\n",
    "\n",
    "    create_ph_file(ph_inputs, material_prefix.value)\n",
    "    ph_simulation(self)\n",
    "    get_qpoints(self)\n",
    "    runPP(self)"
   ]
  },
  {
   "cell_type": "code",
   "execution_count": 6,
   "id": "462a4374",
   "metadata": {
    "ExecuteTime": {
     "end_time": "2023-04-13T20:14:27.056523Z",
     "start_time": "2023-04-13T20:14:27.052056Z"
    }
   },
   "outputs": [],
   "source": [
    "def create_ph_file(ph_inputs, material_prefix):\n",
    "    print('CREATING PH INPUT FILE')\n",
    "    \n",
    "    \n",
    "    time.sleep(2)\n",
    "    global_update_5()\n",
    "    status_5()\n",
    "    \n",
    "    \n",
    "    ph_name = 'ph-%s.in' % material_prefix #assigns ph input file to variable ph_name \n",
    "\n",
    "    input_file = '''\n",
    "    --\n",
    "    &inputph\n",
    "    prefix = '{material_prefix}'\n",
    "    fildvscf = 'dvscf'\n",
    "    ldisp = .true.\n",
    "    fildyn = '{material_prefix}.dyn'\n",
    "    nq1 = {nq1}\n",
    "    nq2 = {nq2}\n",
    "    nq3 = {nq3}\n",
    "    tr2_ph = {tr2_ph}\n",
    "    recover = {recover}\n",
    "    search_sym = {search_sym}\n",
    "    /\n",
    "    '''.format(**ph_inputs) #assigns information in ''' ''' to variable inputfile\n",
    "\n",
    "    with open(ph_name, \"w\") as f: #opens file pw_name\n",
    "        f.write(input_file) #writes inputfile to file ph"
   ]
  },
  {
   "cell_type": "code",
   "execution_count": 7,
   "id": "50a6b544",
   "metadata": {
    "ExecuteTime": {
     "end_time": "2023-04-13T20:14:27.069001Z",
     "start_time": "2023-04-13T20:14:27.058241Z"
    }
   },
   "outputs": [],
   "source": [
    "%use espresso-6.8\n",
    "    \n",
    "def ph_simulation(self):\n",
    "    print('STARTED PH SIMULATION')\n",
    "    \n",
    "    time.sleep(2)\n",
    "    global_update_6()\n",
    "    status_6()\n",
    "    \n",
    "    \n",
    "    mat_prefix = material_prefix.value\n",
    "\n",
    "    save_dir = f'{mat_prefix}.save'\n",
    "    xml_file = f'{mat_prefix}.xml'\n",
    "\n",
    "    outph = f'{mat_prefix}ph'    \n",
    "    psFile = pseudo_filename.value.lstrip('file://')\n",
    "    \n",
    "    ph_name = 'ph-%s.in' % mat_prefix #assigns ph input file to variable ph_name \n",
    "    \n",
    "    #Run ph.x simulation\n",
    "    !submit -w $ph_walltime -n $ph_cores -N $cores_per_node --runName=$outph -i $psFile -i $save_dir -i $xml_file espresso-6.6_ph < $ph_name\n",
    "    "
   ]
  },
  {
   "cell_type": "markdown",
   "id": "983e8f01",
   "metadata": {},
   "source": [
    "## PH Workflow"
   ]
  },
  {
   "cell_type": "markdown",
   "id": "f115d706",
   "metadata": {},
   "source": [
    "### List of q-points"
   ]
  },
  {
   "cell_type": "code",
   "execution_count": 8,
   "id": "c22caadd",
   "metadata": {
    "ExecuteTime": {
     "end_time": "2023-04-13T20:14:27.076001Z",
     "start_time": "2023-04-13T20:14:27.072093Z"
    }
   },
   "outputs": [],
   "source": [
    "qpoint_list_append = \"\"\n",
    "def get_qpoints(self):\n",
    "    global qpoint_list_append\n",
    "    #obtain list of q-points from {material_prefix}.dyn0, to be appended to the end of the eventual epw.in file\n",
    "    with open(f'{pwd}/{material_prefix.value}.dyn0') as file:\n",
    "        qpoint_list = file.readlines()\n",
    "        del qpoint_list[0]\n",
    "        num_irr_q = str(qpoint_list[0]).strip()\n",
    "        qpoint_list[0]= num_irr_q+' cartesian'\n",
    "        #print(qpoint_list)\n",
    "\n",
    "    i = 0 \n",
    "    while i < len(qpoint_list):\n",
    "        qpoint_list_append = qpoint_list_append+qpoint_list[i]+'\\n'\n",
    "        i += 1"
   ]
  },
  {
   "cell_type": "markdown",
   "id": "cc6211ed",
   "metadata": {},
   "source": [
    "### Run pp.y"
   ]
  },
  {
   "cell_type": "code",
   "execution_count": 9,
   "id": "9c1e06fc",
   "metadata": {
    "ExecuteTime": {
     "end_time": "2023-04-13T20:14:27.108217Z",
     "start_time": "2023-04-13T20:14:27.078555Z"
    }
   },
   "outputs": [],
   "source": [
    "#run pp.py\n",
    "# Post-processing script from of PH data in format used by EPW\n",
    "# 14/07/2015 - Creation of the script - Samuel Ponce\n",
    "# 14/03/2018 - Automatically reads the number of q-points - Michael Waters\n",
    "# 14/03/2018 - Detect if SOC is included in the calculation - Samuel Ponce\n",
    "# 05/06/2019 - Removed SOC for xml detection instead - Felix Goudreault\n",
    "#\n",
    "from __future__ import print_function\n",
    "try:\n",
    "    from builtins import input\n",
    "except ImportError:\n",
    "    print('Install future. e.g. \"pip install --user future\"')\n",
    "# import numpy as np\n",
    "\n",
    "import os\n",
    "from xml.dom import minidom\n",
    "\n",
    "\n",
    "# Return the number of q-points in the IBZ\n",
    "def get_nqpt(prefix):\n",
    "    \n",
    "    #STARTED POST PROCESSING PH SIMULATION RESULTS\n",
    "    time.sleep(2)\n",
    "    global_update_7()\n",
    "    status_7()\n",
    "    \n",
    "    \n",
    "    fname = '_ph0/' + prefix + '.phsave/control_ph.xml'\n",
    "\n",
    "    fid = open(fname, 'r')\n",
    "    lines = fid.readlines()\n",
    "    # these files are relatively small so reading the whole thing shouldn't\n",
    "    # be an issue\n",
    "    fid.close()\n",
    "\n",
    "    line_number_of_nqpt = 0\n",
    "    while 'NUMBER_OF_Q_POINTS' not in lines[line_number_of_nqpt]:\n",
    "        # increment to line of interest\n",
    "        line_number_of_nqpt += 1\n",
    "    line_number_of_nqpt += 1  # its on the next line after that text\n",
    "\n",
    "    nqpt = int(lines[line_number_of_nqpt])\n",
    "\n",
    "    return nqpt\n",
    "\n",
    "\n",
    "# Check if the calculation include SOC\n",
    "def hasSOC(prefix):\n",
    "    fname = prefix+'.save/data-file-schema.xml'\n",
    "\n",
    "    xmldoc = minidom.parse(fname)\n",
    "    item = xmldoc.getElementsByTagName('spinorbit')[0]\n",
    "    lSOC = item.childNodes[0].data\n",
    "\n",
    "    return lSOC\n",
    "\n",
    "\n",
    "# Check if the calculation includes PAW\n",
    "def hasPAW(prefix):\n",
    "    fname = prefix+'.save/data-file-schema.xml'\n",
    "\n",
    "    xmldoc = minidom.parse(fname)\n",
    "    item = xmldoc.getElementsByTagName('paw')[0]\n",
    "    lPAW = (item.childNodes[0].data == 'true')\n",
    "\n",
    "    return lPAW\n",
    "\n",
    "\n",
    "# Check if the calculation used .fc or .fc.xml files\n",
    "def hasfc(prefix):\n",
    "    fname = str(prefix)+'.fc.xml'\n",
    "    if (os.path.isfile(fname)):\n",
    "        lfc = True\n",
    "    else:\n",
    "        fname_no_xml = fname.strip(\".xml\")\n",
    "        if (os.path.isfile(fname_no_xml)):\n",
    "            lfc = True\n",
    "        else:\n",
    "            lfc = False\n",
    "\n",
    "    return lfc\n",
    "\n",
    "\n",
    "# check if calculation used xml files (irrelevant of presence of SOC)\n",
    "def hasXML(prefix):\n",
    "    # check for a file named prefix.dyn1.xml\n",
    "    # if it exists => return True else return False\n",
    "    fname = os.path.join(prefix + \".dyn1.xml\")\n",
    "    if os.path.isfile(fname):\n",
    "        return True\n",
    "    # check if the other without .xml extension exists\n",
    "    # if not raise an error\n",
    "    fname_no_xml = fname.strip(\".xml\")\n",
    "\n",
    "    class FileNotFoundError(Exception):\n",
    "        pass\n",
    "    if not os.path.isfile(fname_no_xml):\n",
    "        raise FileNotFoundError(\n",
    "                \"No dyn0 file found cannot tell if xml format was used.\")\n",
    "    return False\n",
    "\n",
    "\n",
    "# Check if the calculation was done in sequential\n",
    "def isSEQ(prefix):\n",
    "    fname = '_ph0/'+str(prefix)+'.dvscf'\n",
    "    if (os.path.isfile(fname)):\n",
    "        lseq = True\n",
    "    else:\n",
    "        lseq = False\n",
    "\n",
    "    return lseq\n",
    "\n",
    "\n",
    "# Enter the number of irr. q-points\n",
    "#user_input = input(\n",
    "#        'Enter the prefix used for PH calculations (e.g. diam)\\n')\n",
    "\n",
    "\n",
    "def runPP(self):\n",
    "    print('RUNNING pp.py')\n",
    "    prefix = material_prefix.value\n",
    "\n",
    "    # # Test if SOC\n",
    "    # SOC = hasSOC(prefix)\n",
    "    # Test if '.xml' files are used\n",
    "    XML = hasXML(prefix)\n",
    "\n",
    "    # Test if PAW\n",
    "    PAW = hasPAW(prefix)\n",
    "\n",
    "    # Test if fc\n",
    "    fc = hasfc(prefix)\n",
    "\n",
    "    # Test if seq. or parallel run\n",
    "    SEQ = isSEQ(prefix)\n",
    "\n",
    "    if True:  # this gets the nqpt from the outputfiles\n",
    "        nqpt = get_nqpt(prefix)\n",
    "\n",
    "    else:\n",
    "        # Enter the number of irr. q-points\n",
    "        user_input = input(\n",
    "                'Enter the number of irreducible q-points\\n')\n",
    "        nqpt = user_input\n",
    "        try:\n",
    "            nqpt = int(user_input)\n",
    "        except ValueError:\n",
    "            raise Exception('The value you enter is not an integer!')\n",
    "\n",
    "    os.system('mkdir save 2>/dev/null')\n",
    "\n",
    "    for iqpt in range(1, nqpt+1):\n",
    "        label = str(iqpt)\n",
    "\n",
    "        # Case calculation in seq.\n",
    "        if SEQ:\n",
    "            # Case with XML files\n",
    "            if XML:\n",
    "                os.system('cp '+prefix+'.dyn0 '+prefix+'.dyn0.xml')\n",
    "                os.system('cp '+prefix+'.dyn'+str(iqpt)+'.xml save/'+prefix\n",
    "                          + '.dyn_q'+label+'.xml')\n",
    "                if (iqpt == 1):\n",
    "                    os.system('cp _ph0/'+prefix+'.dvscf* save/'+prefix+'.dvscf_q'\n",
    "                              + label)\n",
    "                    os.system('cp -r _ph0/'+prefix+'.phsave save/')\n",
    "                    if fc:\n",
    "                        os.system('cp '+prefix+'.fc.xml save/ifc.q2r.xml')\n",
    "                    if PAW:\n",
    "                        os.system('cp _ph0/'+prefix+'.dvscf_paw* save/'+prefix +\n",
    "                                  '.dvscf_paw_q'+label)\n",
    "                else:\n",
    "                    os.system('cp _ph0/'+prefix+'.q_'+str(iqpt)+'/'+prefix +\n",
    "                              '.dvscf* save/'+prefix+'.dvscf_q'+label)\n",
    "                    os.system('rm _ph0/'+prefix+'.q_'+str(iqpt)+'/*wfc*')\n",
    "                    if PAW:\n",
    "                        os.system('cp _ph0/'+prefix+'.q_'+str(iqpt)+'/'+prefix +\n",
    "                                  '.dvscf_paw* save/'+prefix+'.dvscf_paw_q'+label)\n",
    "            # Case without XML files\n",
    "            else:\n",
    "                os.system('cp '+prefix+'.dyn'+str(iqpt)+' save/'+prefix+'.dyn_q' +\n",
    "                          label)\n",
    "                if (iqpt == 1):\n",
    "                    os.system('cp _ph0/'+prefix+'.dvscf save/'+prefix+'.dvscf_q' +\n",
    "                              label)\n",
    "                    os.system('cp -r _ph0/'+prefix+'.phsave save/')\n",
    "                    if fc:\n",
    "                        os.system('cp '+prefix+'.fc save/ifc.q2r')\n",
    "                    if PAW:\n",
    "                        os.system('cp _ph0/'+prefix+'.dvscf_paw save/'+prefix +\n",
    "                                  '.dvscf_paw_q'+label)\n",
    "                else:\n",
    "                    os.system('cp _ph0/'+prefix+'.q_'+str(iqpt)+'/'+prefix +\n",
    "                              '.dvscf save/'+prefix+'.dvscf_q'+label)\n",
    "                    os.system('rm _ph0/'+prefix+'.q_'+str(iqpt)+'/*wfc*')\n",
    "                    if PAW:\n",
    "                        os.system('cp _ph0/'+prefix+'.q_'+str(iqpt)+'/'+prefix +\n",
    "                                  '.dvscf_paw save/'+prefix+'.dvscf_paw_q'+label)\n",
    "        else:\n",
    "            # Case with XML format\n",
    "            if XML:\n",
    "                os.system('cp '+prefix+'.dyn0 '+prefix+'.dyn0.xml')\n",
    "                os.system('cp '+prefix+'.dyn'+str(iqpt)+'.xml save/'+prefix +\n",
    "                          '.dyn_q'+label+'.xml')\n",
    "                if (iqpt == 1):\n",
    "                    os.system('cp _ph0/'+prefix+'.dvscf1 save/'+prefix+'.dvscf_q' +\n",
    "                              label)\n",
    "                    os.system('cp -r _ph0/'+prefix+'.phsave save/')\n",
    "                    if fc:\n",
    "                        os.system('cp '+prefix+'.fc.xml save/ifc.q2r.xml')\n",
    "                    if PAW:\n",
    "                        os.system('cp _ph0/'+prefix+'.dvscf_paw1 save/'+prefix +\n",
    "                                  '.dvscf_paw_q'+label)\n",
    "                else:\n",
    "                    os.system('cp _ph0/'+prefix+'.q_'+str(iqpt)+'/'+prefix +\n",
    "                              '.dvscf1 save/'+prefix+'.dvscf_q'+label)\n",
    "                    os.system('rm _ph0/'+prefix+'.q_'+str(iqpt)+'/*wfc*')\n",
    "                    if PAW:\n",
    "                        os.system('cp _ph0/'+prefix+'.q_'+str(iqpt)+'/'+prefix +\n",
    "                                  '.dvscf_paw1 save/'+prefix+'.dvscf_paw_q'+label)\n",
    "            # Case without XML format\n",
    "            else:\n",
    "                os.system('cp '+prefix+'.dyn'+str(iqpt)+' save/'+prefix+'.dyn_q' +\n",
    "                          label)\n",
    "                if (iqpt == 1):\n",
    "                    os.system('cp _ph0/'+prefix+'.dvscf1 save/'+prefix+'.dvscf_q' +\n",
    "                              label)\n",
    "                    os.system('cp -r _ph0/'+prefix+'.phsave save/')\n",
    "                    if fc:\n",
    "                        os.system('cp '+prefix+'.fc save/ifc.q2r')\n",
    "                    if PAW:\n",
    "                        os.system('cp _ph0/'+prefix+'.dvscf_paw1 save/'+prefix +\n",
    "                                  '.dvscf_paw_q'+label)\n",
    "                else:\n",
    "                    os.system('cp _ph0/'+prefix+'.q_'+str(iqpt)+'/'+prefix +\n",
    "                              '.dvscf1 save/'+prefix+'.dvscf_q'+label)\n",
    "                    os.system('rm _ph0/'+prefix+'.q_'+str(iqpt)+'/*wfc*')\n",
    "                    if PAW:\n",
    "                        os.system('cp _ph0/'+prefix+'.q_'+str(iqpt)+'/'+prefix +\n",
    "                                  '.dvscf_paw1 save/'+prefix+'.dvscf_paw_q'+label)"
   ]
  },
  {
   "cell_type": "code",
   "execution_count": null,
   "id": "365ae78b",
   "metadata": {},
   "outputs": [],
   "source": []
  },
  {
   "cell_type": "markdown",
   "id": "0a617540-2659-4372-afaf-a7ce741837a1",
   "metadata": {},
   "source": [
    "### Functions to Update Progress Bar"
   ]
  },
  {
   "cell_type": "code",
   "execution_count": 10,
   "id": "d0d8d4c6-c51a-4076-b00b-77f418074726",
   "metadata": {},
   "outputs": [],
   "source": [
    "##('CREATING PH INPUT FILE')\n",
    "def global_update_5():\n",
    "    global progressNum\n",
    "    progressNum=5\n",
    "\n",
    "    "
   ]
  },
  {
   "cell_type": "code",
   "execution_count": 11,
   "id": "1b99a509-46ec-4a0f-8a48-616aaa80b54e",
   "metadata": {},
   "outputs": [],
   "source": [
    "##'STARTED PH SIMULATION'\n",
    "def global_update_6():\n",
    "    global progressNum\n",
    "    progressNum=6\n",
    "\n",
    "    "
   ]
  },
  {
   "cell_type": "code",
   "execution_count": 12,
   "id": "6d178c89-c6bc-44d4-ad16-94ff62341257",
   "metadata": {},
   "outputs": [],
   "source": [
    "##STARTED POST PROCESSING OF PH SIMULATION RESULTS\n",
    "def global_update_7():\n",
    "    global progressNum\n",
    "    progressNum=7\n",
    "\n",
    "    "
   ]
  },
  {
   "cell_type": "markdown",
   "id": "a867caa6-cdc7-4ff9-bce9-f57b53d4369f",
   "metadata": {},
   "source": [
    "### Functions to Display and Update Status Messages"
   ]
  },
  {
   "cell_type": "code",
   "execution_count": 13,
   "id": "e3f245f2-22d1-4481-b6c8-f0cd2c41ace1",
   "metadata": {},
   "outputs": [],
   "source": [
    "##('CREATING PH INPUT FILE')\n",
    "def status_5():\n",
    "    global x\n",
    "    x=5\n",
    "    global flag\n",
    "    flag=1\n",
    "    "
   ]
  },
  {
   "cell_type": "code",
   "execution_count": 14,
   "id": "f57634a5-f1f9-4710-a44b-36812957af0c",
   "metadata": {},
   "outputs": [],
   "source": [
    "##('STARTED PH SIMULATION')\n",
    "def status_6():\n",
    "    global x\n",
    "    x=6\n",
    "    global flag\n",
    "    flag=1\n",
    "    "
   ]
  },
  {
   "cell_type": "code",
   "execution_count": 15,
   "id": "7b4234a8-b77a-4f2a-acbb-9e2a6bd97481",
   "metadata": {},
   "outputs": [],
   "source": [
    "##('STARTED POST PROCESSING OF PH SIMULATION RESULTS')\n",
    "def status_7():\n",
    "    global x\n",
    "    x=7\n",
    "    global flag\n",
    "    flag=1\n",
    "    "
   ]
  },
  {
   "cell_type": "code",
   "execution_count": null,
   "id": "54e0c5ee",
   "metadata": {},
   "outputs": [],
   "source": []
  }
 ],
 "metadata": {
  "kernelspec": {
   "display_name": "Python 3.8",
   "language": "python",
   "name": "python3"
  },
  "language_info": {
   "codemirror_mode": {
    "name": "ipython",
    "version": 3
   },
   "file_extension": ".py",
   "mimetype": "text/x-python",
   "name": "python",
   "nbconvert_exporter": "python",
   "pygments_lexer": "ipython3",
   "version": "3.8.10"
  },
  "toc": {
   "base_numbering": 1,
   "nav_menu": {},
   "number_sections": true,
   "sideBar": true,
   "skip_h1_title": false,
   "title_cell": "Table of Contents",
   "title_sidebar": "Contents",
   "toc_cell": false,
   "toc_position": {},
   "toc_section_display": true,
   "toc_window_display": false
  },
  "varInspector": {
   "cols": {
    "lenName": 16,
    "lenType": 16,
    "lenVar": 40
   },
   "kernels_config": {
    "python": {
     "delete_cmd_postfix": "",
     "delete_cmd_prefix": "del ",
     "library": "var_list.py",
     "varRefreshCmd": "print(var_dic_list())"
    },
    "r": {
     "delete_cmd_postfix": ") ",
     "delete_cmd_prefix": "rm(",
     "library": "var_list.r",
     "varRefreshCmd": "cat(var_dic_list()) "
    }
   },
   "types_to_exclude": [
    "module",
    "function",
    "builtin_function_or_method",
    "instance",
    "_Feature"
   ],
   "window_display": false
  }
 },
 "nbformat": 4,
 "nbformat_minor": 5
}
