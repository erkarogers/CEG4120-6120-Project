{
 "cells": [
  {
   "cell_type": "markdown",
   "id": "ae1a79fd",
   "metadata": {},
   "source": [
    "# DFPT Phonon Step (PH.X)"
   ]
  },
  {
   "cell_type": "code",
   "execution_count": 7,
   "id": "c8b9b86c",
   "metadata": {
    "ExecuteTime": {
     "end_time": "2023-03-19T04:21:28.737401Z",
     "start_time": "2023-03-19T04:21:26.623280Z"
    }
   },
   "outputs": [],
   "source": [
    "### Import libraries\n",
    "from ipywidgets import Style, Box, Layout, Label, IntText, FloatText, Dropdown\n",
    "%run styles.ipynb"
   ]
  },
  {
   "cell_type": "markdown",
   "id": "19668523-b23d-4454-89c9-8adcff611ad1",
   "metadata": {},
   "source": [
    "## Documentation Link"
   ]
  },
  {
   "cell_type": "code",
   "execution_count": 12,
   "id": "391d0907-d339-420f-8fae-c5aaa3676eff",
   "metadata": {},
   "outputs": [
    {
     "data": {
      "text/html": [
       "<a href=\"https://www.quantum-espresso.org/Doc/INPUT_PW.html\" target=\"_blank\">INPUT_PW.html</a>\n"
      ],
      "text/plain": [
       "<IPython.core.display.HTML object>"
      ]
     },
     "metadata": {},
     "output_type": "display_data"
    }
   ],
   "source": [
    "%%html\n",
    "<a href=\"https://www.quantum-espresso.org/Doc/INPUT_PH.html#idm218\" target=\"_blank\">INPUT_PW.html</a>"
   ]
  },
  {
   "cell_type": "code",
   "execution_count": 2,
   "id": "36415cbb-17ae-4795-9968-87be8fe70986",
   "metadata": {},
   "outputs": [],
   "source": [
    "documentation_link = HTML(value='<a href=\"https://www.quantum-espresso.org/Doc/INPUT_PH.html#idm218\" target=\"_blank\">INPUT_PH.html</a>')"
   ]
  },
  {
   "cell_type": "markdown",
   "id": "c76b991d",
   "metadata": {},
   "source": [
    "## PH.X Inputs"
   ]
  },
  {
   "cell_type": "code",
   "execution_count": 10,
   "id": "5221306c",
   "metadata": {
    "ExecuteTime": {
     "end_time": "2023-03-19T04:21:28.828075Z",
     "start_time": "2023-03-19T04:21:28.746756Z"
    }
   },
   "outputs": [
    {
     "data": {
      "application/vnd.jupyter.widget-view+json": {
       "model_id": "911047ad3203477aa21808ad7e7cb744",
       "version_major": 2,
       "version_minor": 0
      },
      "text/plain": [
       "Box(children=(Box(children=(Label(value='nq1'), IntText(value=3, layout=Layout(width='30%'))), layout=Layout(d…"
      ]
     },
     "metadata": {},
     "output_type": "display_data"
    }
   ],
   "source": [
    "# ph.x inputs\n",
    "\n",
    "#qpoints in 100 crystal direction, for sampling periodic cell in reciprocal space in the phonon calculation\n",
    "nq1 = IntText(name=\"nq1\", value= 3)\n",
    "\n",
    "#qpoints in 010 crystal direction, for sampling periodic cell in reciprocal space in the phonon calculation\n",
    "nq2 = IntText(name=\"nq2\", value= 3)\n",
    "# qpoints in 001 crystal direction, for sampling periodic cell in reciprocal space in the phonon calculation\n",
    "nq3 = IntText(name=\"nq3\", value= 3)\n",
    "\n",
    "# convergence threshold for phonon calculation\n",
    "self_consistency_threshold = FloatText(name=\"Self-Consistency Threshold\", value=1.0e-12)\n",
    "\n",
    "# option for recovering from previous failed/timed out calculation\n",
    "recover = Dropdown(name=\"recover\", value=\"false\", options=[\"true\",\"false\"])\n",
    "\n",
    "\n",
    "####\n",
    "# Creates the info buttons and adds in the description when you hover your cursor over the button\n",
    "\n",
    "icon_nq1 = Button( icon='fa-info-circle',\n",
    "                                tooltip='Parameters of the Monkhorst-Pack grid (no offset) used' '\\n'\n",
    "                                        'when ldisp=.true. Same meaning as for nk1, nk2, nk3 in the input of pw.x.' '\\n'\n",
    "                                         '\\n''DEFAULT: 0,0,0' , \n",
    "                                layout = Layout(width='40px'))\n",
    "\n",
    "icon_nq2 = Button( icon='fa-info-circle',\n",
    "                                tooltip='Parameters of the Monkhorst-Pack grid (no offset) used' '\\n'\n",
    "                                        'when ldisp=.true. Same meaning as for nk1, nk2, nk3 in the input of pw.x.''\\n'\n",
    "                                          '\\n''DEFAULT: 0,0,0', \n",
    "                                layout = Layout(width='40px'))\n",
    "\n",
    "icon_nq3 = Button( icon='fa-info-circle',\n",
    "                                tooltip='Parameters of the Monkhorst-Pack grid (no offset) used' '\\n'\n",
    "                                        'when ldisp=.true. Same meaning as for nk1, nk2, nk3 in the input of pw.x.''\\n'\n",
    "                                         '\\n' 'DEFAULT: 0,0,0', \n",
    "                                layout = Layout(width='40px'))\n",
    "\n",
    "icon_self_consistency_threshold = Button( icon='fa-info-circle',\n",
    "                                tooltip='Threshold for self-consistency.' '\\n'\n",
    "                                         '\\n''DEFAULT:1e-12', \n",
    "                                layout = Layout(width='40px'))\n",
    "\n",
    "icon_recover = Button( icon='fa-info-circle',\n",
    "                                tooltip=' If .true. restart from an interrupted run.' '\\n'\n",
    "                                          '\\n''DEFAULT: false', \n",
    "                                layout = Layout(width='40px'))\n",
    "\n",
    "\n",
    "\n",
    "\n",
    "\n",
    "form_items = [\n",
    "    \n",
    "    HBox([Label(value='nq1'),\n",
    "          Box([nq1, icon_nq1])\n",
    "         ], layout = form_item_layout()),\n",
    "        \n",
    "    HBox([Label(value='nq2'), \n",
    "          Box([nq2, icon_nq2])\n",
    "         ],layout=form_item_layout()),\n",
    "    \n",
    "     HBox([Label(value='nq3'), \n",
    "          Box([nq3, icon_nq3])\n",
    "         ],layout=form_item_layout()),\n",
    "    \n",
    "     HBox([Label(value='Self-Consistency Threshold'), \n",
    "          Box([self_consistency_threshold, icon_self_consistency_threshold])\n",
    "         ],layout=form_item_layout()),\n",
    "    \n",
    "      HBox([Label(value='Recover'), \n",
    "          Box([recover, icon_recover])\n",
    "         ],layout=form_item_layout()),   \n",
    "    \n",
    "    HBox([Label(value='Documentation URL:'), documentation_link], layout=Layout())\n",
    "    \n",
    "    #Box([Label(value='nq1'), nq1], layout=form_item_layout()),\n",
    "    #Box([Label(value='nq2'), nq2], layout=form_item_layout()),\n",
    "    #Box([Label(value='nq3'), nq3], layout=form_item_layout()),\n",
    "    #Box([Label(value='Self-Consistency Threshold'), self_consistency_threshold], layout=form_item_layout()),\n",
    "    #Box([Label(value='Recover'), recover], layout=form_item_layout())\n",
    "]\n",
    "\n",
    "ph_x_box = Box(form_items, layout=box_layout(40))\n",
    "\n",
    "ph_x_box\n"
   ]
  },
  {
   "cell_type": "markdown",
   "id": "8edaecde",
   "metadata": {},
   "source": [
    "## NON USER INPUTS"
   ]
  },
  {
   "cell_type": "code",
   "execution_count": 4,
   "id": "6d26caeb",
   "metadata": {},
   "outputs": [],
   "source": [
    "#input parameters\n",
    "#&inputph                                                                                                                                                                                                                                                                                                                                                                                                                                                                                                                                                                                                                                                                                                                                                                                                                                                                                 \n",
    "search_sym = '.false.'   \n",
    "ph_cores = 20\n",
    "ph_walltime = '00:05:00'"
   ]
  },
  {
   "cell_type": "markdown",
   "id": "de5f8cfe",
   "metadata": {},
   "source": [
    "## Bind inputs to outputs"
   ]
  },
  {
   "cell_type": "code",
   "execution_count": 5,
   "id": "46a68311",
   "metadata": {
    "ExecuteTime": {
     "end_time": "2023-03-19T04:21:28.833964Z",
     "start_time": "2023-03-19T04:21:28.830882Z"
    }
   },
   "outputs": [],
   "source": [
    "def bind_PH_X_inputs(self):\n",
    "    \n",
    "    ph_inputs = {\n",
    "        'material_prefix': material_prefix.value,\n",
    "        'nq1': nq1.value,\n",
    "        'nq2': nq2.value,\n",
    "        'nq3': nq3.value,\n",
    "        'tr2_ph': self_consistency_threshold.value,\n",
    "        'recover': recover.value,\n",
    "        'search_sym': search_sym\n",
    "    }\n",
    "\n",
    "    build_PH_Input(ph_inputs, material_prefix.value)"
   ]
  },
  {
   "cell_type": "code",
   "execution_count": 6,
   "id": "462a4374",
   "metadata": {
    "ExecuteTime": {
     "end_time": "2023-03-19T04:21:28.839768Z",
     "start_time": "2023-03-19T04:21:28.835780Z"
    }
   },
   "outputs": [],
   "source": [
    "def build_PH_Input(ph_inputs, material_prefix):\n",
    "    print('BUILDING PH INPUT FILE')\n",
    "    ph_name = 'ph-%s.in' % material_prefix #assigns ph input file to variable ph_name \n",
    "\n",
    "    ph_name = 'ph-%s.in' % material_prefix #assigns ph input file to variable ph_name \n",
    "\n",
    "    input_file = '''\n",
    "    --\n",
    "    &inputph\n",
    "    prefix = '{material_prefix}'\n",
    "    fildvscf = 'dvscf'\n",
    "    ldisp = .true.\n",
    "    fildyn = '{material_prefix}.dyn'\n",
    "    nq1 = {nq1}\n",
    "    nq2 = {nq2}\n",
    "    nq3 = {nq3}\n",
    "    tr2_ph = {tr2_ph}\n",
    "    recover = {recover}\n",
    "    search_sym = {search_sym}\n",
    "    /\n",
    "    '''.format(**ph_inputs) #assigns information in ''' ''' to variable inputfile\n",
    "\n",
    "    with open(ph_name, \"w\") as f: #opens file pw_name\n",
    "        f.write(input_file) #writes inputfile to file ph"
   ]
  }
 ],
 "metadata": {
  "kernelspec": {
   "display_name": "Python 3.8",
   "language": "python",
   "name": "python3"
  },
  "language_info": {
   "codemirror_mode": {
    "name": "ipython",
    "version": 3
   },
   "file_extension": ".py",
   "mimetype": "text/x-python",
   "name": "python",
   "nbconvert_exporter": "python",
   "pygments_lexer": "ipython3",
   "version": "3.8.10"
  },
  "toc": {
   "base_numbering": 1,
   "nav_menu": {},
   "number_sections": true,
   "sideBar": true,
   "skip_h1_title": false,
   "title_cell": "Table of Contents",
   "title_sidebar": "Contents",
   "toc_cell": false,
   "toc_position": {},
   "toc_section_display": true,
   "toc_window_display": false
  },
  "varInspector": {
   "cols": {
    "lenName": 16,
    "lenType": 16,
    "lenVar": 40
   },
   "kernels_config": {
    "python": {
     "delete_cmd_postfix": "",
     "delete_cmd_prefix": "del ",
     "library": "var_list.py",
     "varRefreshCmd": "print(var_dic_list())"
    },
    "r": {
     "delete_cmd_postfix": ") ",
     "delete_cmd_prefix": "rm(",
     "library": "var_list.r",
     "varRefreshCmd": "cat(var_dic_list()) "
    }
   },
   "types_to_exclude": [
    "module",
    "function",
    "builtin_function_or_method",
    "instance",
    "_Feature"
   ],
   "window_display": false
  }
 },
 "nbformat": 4,
 "nbformat_minor": 5
}
