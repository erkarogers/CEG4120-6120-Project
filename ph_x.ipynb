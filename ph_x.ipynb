{
 "cells": [
  {
   "cell_type": "markdown",
   "id": "ae1a79fd",
   "metadata": {},
   "source": [
    "# DFPT Phonon Step (PH.X)"
   ]
  },
  {
   "cell_type": "code",
   "execution_count": 1,
   "id": "c8b9b86c",
   "metadata": {
    "ExecuteTime": {
     "end_time": "2023-03-19T04:21:28.737401Z",
     "start_time": "2023-03-19T04:21:26.623280Z"
    }
   },
   "outputs": [
    {
     "data": {
      "application/javascript": "\nrequirejs.undef('filepicker');\n\ndefine('filepicker', [\"@jupyter-widgets/base\"], function(widgets) {\n\n    var FilePickerView = widgets.DOMWidgetView.extend({\n        render: function(){\n            this.file = document.createElement('input');\n            this.file.setAttribute('class', 'fileinput');\n            this.file.setAttribute('id', this.cid);\n            this.file.multiple = this.model.get('multiple');\n            this.file.required = true;\n            this.file.setAttribute('type', 'file');\n            this.file.setAttribute('style', 'display:none');\n\n            this.label = document.createElement('label');\n            this.label.setAttribute('for', this.cid);\n            this.label.setAttribute('style', 'border: 1px solid; border-radius: 5px; display: inline-block; padding: 6px 12px');\n\n            this.icon = document.createElement('i');\n            this.icon.setAttribute(\"class\", \"fa fa-upload\");\n\n            if (this.file.multiple) {\n                this.labelstr = \"  Upload Files\";\n            } else {\n                this.labelstr = \"  Upload File\";\n            }\n            this.label.innerHTML = this.labelstr;\n            this.label.prepend(this.icon);\n            this.el.appendChild(this.label);\n            this.el.appendChild(this.file);\n            this.listenTo(this.model, 'change:send', this._send_changed, this);\n            this.listenTo(this.model, 'change:reset', this._reset, this);\n            this.update();\n        },\n\n        events: {\n            // List of events and their handlers.\n            'change': 'handle_file_change'\n        },\n\n        _reset: function() {\n            this.label.innerHTML = this.labelstr;\n            this.label.prepend(this.icon);\n            this.file.removeAttribute(\"disabled\");\n        },\n\n        _send_changed: function() {\n            var that = this;\n            var send = this.model.get('send');\n            var fnum = send[0];\n            var offset = send[1];\n            var chunk_size=64*1024;\n            var reader;\n\n            if (fnum == -1) {\n                // ignore\n                return\n            }\n\n            if (offset == 0) {\n                this.model.set('sent', -1);\n                this.touch();\n            }\n\n            // console.log('send: ' + fnum + ' ' + offset);\n            function tob64( buffer ) {\n                var binary = '';\n                var bytes = new Uint8Array( buffer );\n                var len = bytes.byteLength;\n                for (var i = 0; i < len; i++) {\n                    binary += String.fromCharCode( bytes[ i ] );\n                }\n                return window.btoa( binary );\n            }\n\n            var reader_done = function (event) {\n                // chunk is finished.  Send to python\n                if (event.target.error == null) {\n                    var b64 = tob64(event.target.result);\n                    that.model.set('data', b64);\n                    that.model.set('sent', offset);\n                    that.touch();\n                } else {\n                    console.log(\"Read error: \" + event.target.error);\n                    that.model.set('data', '');\n                    that.model.set('sent', -2);\n                    that.touch();\n                }\n                that.touch();\n            }\n        \n            var chunk_reader = function (_offset, _f) {\n                // console.log('CR' + ' ' + _f + ' ' + _offset);\n                reader = new FileReader();\n                var chunk = _f.slice(_offset, chunk_size + _offset);            \n                reader.readAsArrayBuffer(chunk);\n                reader.onload = reader_done;\n            }\n    \n            // OK. request next chunk\n            chunk_reader(offset, this.files[fnum]);\n        },\n        \n        \n        handle_file_change: function(evt) {\n\n            var _files = evt.target.files;\n            var filenames = [];\n            var file_readers = [];\n            this.files = [];\n\n            for (var i = 0; i < _files.length; i++) {\n                var file = _files[i];\n                console.log(\"Filename: \" + file.name);\n                console.log(\"Type: \" + file.type);\n                console.log(\"Size: \" + file.size + \" bytes\");\n                this.files.push(file);\n                filenames.push([file.name, file.size]);\n            };\n            \n            // Set the filenames of the files.\n            this.model.set('filenames', filenames);\n            this.touch();\n\n            // update the label\n            if (filenames.length == 0) {\n                this.label.innerHTML = this.labelstr;\n                this.file.removeAttribute(\"disabled\");\n            } else if (filenames.length == 1) {\n                this.label.innerHTML = \"  \" + filenames[0][0];\n                this.file.setAttribute('disabled', 'true');\n            } else {\n                this.label.innerHTML = \"  \" + filenames.length + \" files selected\";\n                this.file.setAttribute('disabled', 'true');           \n            };\n            this.label.prepend(this.icon);\n        },\n    });\n\n    // Register the FilePickerView with the widget manager.\n    return {\n        FilePickerView: FilePickerView\n    };\n});\n",
      "text/plain": [
       "<IPython.core.display.Javascript object>"
      ]
     },
     "metadata": {},
     "output_type": "display_data"
    }
   ],
   "source": [
    "### Import libraries\n",
    "from ipywidgets import Style, Box, Layout, Label, IntText, FloatText, Dropdown"
   ]
  },
  {
   "cell_type": "markdown",
   "id": "26967405",
   "metadata": {},
   "source": [
    "## Shared Styles"
   ]
  },
  {
   "cell_type": "code",
   "execution_count": 2,
   "id": "9a4aa8b0",
   "metadata": {
    "ExecuteTime": {
     "end_time": "2023-03-19T04:21:28.744474Z",
     "start_time": "2023-03-19T04:21:28.739470Z"
    }
   },
   "outputs": [],
   "source": [
    "form_item_layout = Layout(\n",
    "    display='flex',\n",
    "    flex_flow='row',\n",
    "    justify_content='space-between'\n",
    ")\n",
    "\n",
    "text_style = Style(width='40px')"
   ]
  },
  {
   "cell_type": "markdown",
   "id": "c76b991d",
   "metadata": {},
   "source": [
    "## PH.X Inputs"
   ]
  },
  {
   "cell_type": "code",
   "execution_count": 3,
   "id": "5221306c",
   "metadata": {
    "ExecuteTime": {
     "end_time": "2023-03-19T04:21:28.828075Z",
     "start_time": "2023-03-19T04:21:28.746756Z"
    }
   },
   "outputs": [
    {
     "data": {
      "application/vnd.jupyter.widget-view+json": {
       "model_id": "67c2ae4b4582426b9d2cc4628a11d2bb",
       "version_major": 2,
       "version_minor": 0
      },
      "text/plain": [
       "Box(children=(Box(children=(Label(value='nq1'), IntText(value=3)), layout=Layout(display='flex', flex_flow='ro…"
      ]
     },
     "metadata": {},
     "output_type": "display_data"
    }
   ],
   "source": [
    "# ph.x inputs\n",
    "\n",
    "#qpoints in 100 crystal direction, for sampling periodic cell in reciprocal space in the phonon calculation\n",
    "nq1 = IntText(name=\"nq1\", min=0, max=10, value= 3, style=dict(width='10px') )\n",
    "\n",
    "#qpoints in 010 crystal direction, for sampling periodic cell in reciprocal space in the phonon calculation\n",
    "nq2 = IntText(name=\"nq2\", min=0, max=10, value= 3)\n",
    "# qpoints in 001 crystal direction, for sampling periodic cell in reciprocal space in the phonon calculation\n",
    "nq3 = IntText(name=\"nq3\", min=0, max=10, value= 3)\n",
    "\n",
    "# convergence threshold for phonon calculation\n",
    "self_consistency_threshold = FloatText(name=\"Self-Consistency Threshold\", value=1.0e-12, min=0, max=1)\n",
    "\n",
    "# option for recovering from previous failed/timed out calculation\n",
    "recover = Dropdown(name=\"recover\", value=\"false\", options=[\"true\",\"false\"])\n",
    "\n",
    "form_items = [\n",
    "    Box([Label(value='nq1'), nq1], layout=form_item_layout),\n",
    "    Box([Label(value='nq2'), nq2], layout=form_item_layout),\n",
    "    Box([Label(value='nq3'), nq3], layout=form_item_layout),\n",
    "    Box([Label(value='Self-Consistency Threshold'), self_consistency_threshold], layout=form_item_layout),\n",
    "    Box([Label(value='Recover'), recover], layout=form_item_layout)\n",
    "]\n",
    "\n",
    "ph_x_box = Box(form_items, layout=Layout(\n",
    "    display='flex',\n",
    "    flex_flow='column',\n",
    "    #border='solid 2px',\n",
    "    align_items='stretch',\n",
    "    width='40%'\n",
    "))\n",
    "\n",
    "ph_x_box\n"
   ]
  },
  {
   "cell_type": "markdown",
   "id": "8edaecde",
   "metadata": {},
   "source": [
    "## NON USER INPUTS"
   ]
  },
  {
   "cell_type": "code",
   "execution_count": 4,
   "id": "6d26caeb",
   "metadata": {},
   "outputs": [],
   "source": [
    "#input parameters\n",
    "#&inputph                                                                                                                                                                                                                                                                                                                                                                                                                                                                                                                                                                                                                                                                                                                                                                                                                                                                                 \n",
    "search_sym = '.false.'   \n",
    "ph_cores = 20\n",
    "ph_walltime = '00:05:00'"
   ]
  },
  {
   "cell_type": "markdown",
   "id": "de5f8cfe",
   "metadata": {},
   "source": [
    "## Bind inputs to outputs"
   ]
  },
  {
   "cell_type": "code",
   "execution_count": 5,
   "id": "46a68311",
   "metadata": {
    "ExecuteTime": {
     "end_time": "2023-03-19T04:21:28.833964Z",
     "start_time": "2023-03-19T04:21:28.830882Z"
    }
   },
   "outputs": [],
   "source": [
    "def bind_PH_X_inputs(self):\n",
    "    \n",
    "    ph_inputs = {\n",
    "        'material_prefix': material_prefix.value,\n",
    "        'nq1': nq1.value,\n",
    "        'nq2': nq2.value,\n",
    "        'nq3': nq3.value,\n",
    "        'tr2_ph': self_consistency_threshold.value,\n",
    "        'recover': recover.value,\n",
    "        'search_sym': search_sym\n",
    "    }\n",
    "\n",
    "    build_PH_Input(ph_inputs, material_prefix.value)"
   ]
  },
  {
   "cell_type": "code",
   "execution_count": 6,
   "id": "462a4374",
   "metadata": {
    "ExecuteTime": {
     "end_time": "2023-03-19T04:21:28.839768Z",
     "start_time": "2023-03-19T04:21:28.835780Z"
    }
   },
   "outputs": [],
   "source": [
    "def build_PH_Input(ph_inputs, material_prefix):\n",
    "    print('BUILDING PH INPUT FILE')\n",
    "    ph_name = 'ph-%s.in' % material_prefix #assigns ph input file to variable ph_name \n",
    "\n",
    "    ph_name = 'ph-%s.in' % material_prefix #assigns ph input file to variable ph_name \n",
    "\n",
    "    input_file = '''\n",
    "    --\n",
    "    &inputph\n",
    "    prefix = '{material_prefix}'\n",
    "    fildvscf = 'dvscf'\n",
    "    ldisp = .true.\n",
    "    fildyn = '{material_prefix}.dyn'\n",
    "    nq1 = {nq1}\n",
    "    nq2 = {nq2}\n",
    "    nq3 = {nq3}\n",
    "    tr2_ph = {tr2_ph}\n",
    "    recover = {recover}\n",
    "    search_sym = {search_sym}\n",
    "    /\n",
    "    '''.format(**ph_inputs) #assigns information in ''' ''' to variable inputfile\n",
    "\n",
    "    with open(ph_name, \"w\") as f: #opens file pw_name\n",
    "        f.write(input_file) #writes inputfile to file ph"
   ]
  }
 ],
 "metadata": {
  "kernelspec": {
   "display_name": "Python 3.8",
   "language": "python",
   "name": "python3"
  },
  "language_info": {
   "codemirror_mode": {
    "name": "ipython",
    "version": 3
   },
   "file_extension": ".py",
   "mimetype": "text/x-python",
   "name": "python",
   "nbconvert_exporter": "python",
   "pygments_lexer": "ipython3",
   "version": "3.8.10"
  },
  "toc": {
   "base_numbering": 1,
   "nav_menu": {},
   "number_sections": true,
   "sideBar": true,
   "skip_h1_title": false,
   "title_cell": "Table of Contents",
   "title_sidebar": "Contents",
   "toc_cell": false,
   "toc_position": {},
   "toc_section_display": true,
   "toc_window_display": false
  },
  "varInspector": {
   "cols": {
    "lenName": 16,
    "lenType": 16,
    "lenVar": 40
   },
   "kernels_config": {
    "python": {
     "delete_cmd_postfix": "",
     "delete_cmd_prefix": "del ",
     "library": "var_list.py",
     "varRefreshCmd": "print(var_dic_list())"
    },
    "r": {
     "delete_cmd_postfix": ") ",
     "delete_cmd_prefix": "rm(",
     "library": "var_list.r",
     "varRefreshCmd": "cat(var_dic_list()) "
    }
   },
   "types_to_exclude": [
    "module",
    "function",
    "builtin_function_or_method",
    "instance",
    "_Feature"
   ],
   "window_display": false
  }
 },
 "nbformat": 4,
 "nbformat_minor": 5
}
