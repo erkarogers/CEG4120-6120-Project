{
 "cells": [
  {
   "cell_type": "markdown",
   "id": "ee6f9c37",
   "metadata": {},
   "source": [
    "# Shared Styles"
   ]
  },
  {
   "cell_type": "code",
   "execution_count": 1,
   "id": "0fbdf5e6",
   "metadata": {},
   "outputs": [],
   "source": [
    "from ipywidgets import Layout"
   ]
  },
  {
   "cell_type": "code",
   "execution_count": 2,
   "id": "6241b102",
   "metadata": {},
   "outputs": [],
   "source": [
    "def input_layout(width):\n",
    "    return Layout(width='{}%'.format(width))"
   ]
  },
  {
   "cell_type": "code",
   "execution_count": 3,
   "id": "9be9f696",
   "metadata": {},
   "outputs": [],
   "source": [
    "def form_item_layout():\n",
    "    return Layout(\n",
    "    display='flex',\n",
    "    flex_flow='row',\n",
    "    justify_content='space-between')"
   ]
  },
  {
   "cell_type": "code",
   "execution_count": 4,
   "id": "88c340fa",
   "metadata": {},
   "outputs": [],
   "source": [
    "def box_layout(width):\n",
    "    return Layout(\n",
    "    display='flex',\n",
    "    flex_flow='column',\n",
    "    #border='solid 2px',\n",
    "    align_items='stretch',\n",
    "    width='{}%'.format(width)\n",
    ")"
   ]
  },
  {
   "cell_type": "code",
   "execution_count": 7,
   "id": "ee11ec47",
   "metadata": {},
   "outputs": [
    {
     "data": {
      "text/html": [
       "<style>\n",
       ".header{\n",
       "    background-color:#dedede;\n",
       "    padding: 10px;\n",
       "}\n",
       ".main {\n",
       "    border: solid 1px;\n",
       "}\n",
       "\n",
       ".tab {\n",
       "    border: 0px;\n",
       "}\n",
       "</style>\n"
      ],
      "text/plain": [
       "<IPython.core.display.HTML object>"
      ]
     },
     "metadata": {},
     "output_type": "display_data"
    }
   ],
   "source": [
    "%%html\n",
    "<style>\n",
    ".header{\n",
    "    background-color:#dedede;\n",
    "    padding: 10px;\n",
    "}\n",
    ".main {\n",
    "    border: solid 1px;\n",
    "}\n",
    "\n",
    ".tab {\n",
    "    border: 0px;\n",
    "}\n",
    "</style>"
   ]
  },
  {
   "cell_type": "code",
   "execution_count": null,
   "id": "05c736f5",
   "metadata": {},
   "outputs": [],
   "source": []
  }
 ],
 "metadata": {
  "kernelspec": {
   "display_name": "Python 3 (ipykernel)",
   "language": "python",
   "name": "python3"
  },
  "language_info": {
   "codemirror_mode": {
    "name": "ipython",
    "version": 3
   },
   "file_extension": ".py",
   "mimetype": "text/x-python",
   "name": "python",
   "nbconvert_exporter": "python",
   "pygments_lexer": "ipython3",
   "version": "3.9.12"
  }
 },
 "nbformat": 4,
 "nbformat_minor": 5
}
