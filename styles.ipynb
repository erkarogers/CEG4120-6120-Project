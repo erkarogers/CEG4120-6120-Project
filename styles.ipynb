{
 "cells": [
  {
   "cell_type": "markdown",
   "id": "ee6f9c37",
   "metadata": {},
   "source": [
    "# Shared Styles"
   ]
  },
  {
   "cell_type": "code",
   "execution_count": 1,
   "id": "0fbdf5e6",
<<<<<<< HEAD
<<<<<<< HEAD
   "metadata": {},
=======
=======
>>>>>>> 7fd94d0be9fe612a98883f012bc0fe37f2586e2d
   "metadata": {
    "ExecuteTime": {
     "end_time": "2023-03-29T04:28:33.790733Z",
     "start_time": "2023-03-29T04:28:33.728998Z"
    }
   },
<<<<<<< HEAD
>>>>>>> 7fd94d0 (tooltips added to nanohub gui)
=======
>>>>>>> 7fd94d0be9fe612a98883f012bc0fe37f2586e2d
   "outputs": [],
   "source": [
    "from ipywidgets import Layout"
   ]
  },
  {
   "cell_type": "code",
   "execution_count": 2,
   "id": "6241b102",
<<<<<<< HEAD
<<<<<<< HEAD
   "metadata": {},
=======
=======
>>>>>>> 7fd94d0be9fe612a98883f012bc0fe37f2586e2d
   "metadata": {
    "ExecuteTime": {
     "end_time": "2023-03-29T04:28:33.803787Z",
     "start_time": "2023-03-29T04:28:33.792755Z"
    }
   },
<<<<<<< HEAD
>>>>>>> 7fd94d0 (tooltips added to nanohub gui)
=======
>>>>>>> 7fd94d0be9fe612a98883f012bc0fe37f2586e2d
   "outputs": [],
   "source": [
    "def input_layout(width):\n",
    "    return Layout(width='{}%'.format(width))"
   ]
  },
  {
   "cell_type": "code",
   "execution_count": 3,
   "id": "9be9f696",
<<<<<<< HEAD
<<<<<<< HEAD
   "metadata": {},
=======
=======
>>>>>>> 7fd94d0be9fe612a98883f012bc0fe37f2586e2d
   "metadata": {
    "ExecuteTime": {
     "end_time": "2023-03-29T04:28:33.811451Z",
     "start_time": "2023-03-29T04:28:33.805987Z"
    }
   },
<<<<<<< HEAD
>>>>>>> 7fd94d0 (tooltips added to nanohub gui)
=======
>>>>>>> 7fd94d0be9fe612a98883f012bc0fe37f2586e2d
   "outputs": [],
   "source": [
    "def form_item_layout():\n",
    "    return Layout(\n",
    "    display='flex',\n",
<<<<<<< HEAD
<<<<<<< HEAD
    "    flex_flow='row',\n",
    "    justify_content='space-between')"
=======
=======
>>>>>>> 7fd94d0be9fe612a98883f012bc0fe37f2586e2d
    "    flex_flow='row')\n",
    "    #justify_content='space-between')\n",
    "    #justify_content='center')\n",
    "    #justify_content='space-around')"
<<<<<<< HEAD
>>>>>>> 7fd94d0 (tooltips added to nanohub gui)
=======
>>>>>>> 7fd94d0be9fe612a98883f012bc0fe37f2586e2d
   ]
  },
  {
   "cell_type": "code",
   "execution_count": 4,
   "id": "88c340fa",
<<<<<<< HEAD
<<<<<<< HEAD
   "metadata": {},
=======
=======
>>>>>>> 7fd94d0be9fe612a98883f012bc0fe37f2586e2d
   "metadata": {
    "ExecuteTime": {
     "end_time": "2023-03-29T04:28:33.823787Z",
     "start_time": "2023-03-29T04:28:33.813502Z"
    }
   },
<<<<<<< HEAD
>>>>>>> 7fd94d0 (tooltips added to nanohub gui)
=======
>>>>>>> 7fd94d0be9fe612a98883f012bc0fe37f2586e2d
   "outputs": [],
   "source": [
    "def box_layout(width):\n",
    "    return Layout(\n",
    "    display='flex',\n",
    "    flex_flow='column',\n",
    "    #border='solid 2px',\n",
    "    align_items='stretch',\n",
    "    width='{}%'.format(width)\n",
    ")"
   ]
  },
  {
   "cell_type": "code",
<<<<<<< HEAD
<<<<<<< HEAD
   "execution_count": 7,
   "id": "ee11ec47",
   "metadata": {},
=======
=======
>>>>>>> 7fd94d0be9fe612a98883f012bc0fe37f2586e2d
   "execution_count": 5,
   "id": "ee11ec47",
   "metadata": {
    "ExecuteTime": {
     "end_time": "2023-03-29T04:28:33.842660Z",
     "start_time": "2023-03-29T04:28:33.825553Z"
    }
   },
<<<<<<< HEAD
>>>>>>> 7fd94d0 (tooltips added to nanohub gui)
=======
>>>>>>> 7fd94d0be9fe612a98883f012bc0fe37f2586e2d
   "outputs": [
    {
     "data": {
      "text/html": [
       "<style>\n",
       ".header{\n",
       "    background-color:#dedede;\n",
       "    padding: 10px;\n",
       "}\n",
       ".main {\n",
       "    border: solid 1px;\n",
       "}\n",
       "\n",
       ".tab {\n",
       "    border: 0px;\n",
       "}\n",
       "</style>\n"
      ],
      "text/plain": [
       "<IPython.core.display.HTML object>"
      ]
     },
     "metadata": {},
     "output_type": "display_data"
    }
   ],
   "source": [
    "%%html\n",
    "<style>\n",
    ".header{\n",
    "    background-color:#dedede;\n",
    "    padding: 10px;\n",
    "}\n",
    ".main {\n",
    "    border: solid 1px;\n",
    "}\n",
    "\n",
    ".tab {\n",
    "    border: 0px;\n",
    "}\n",
    "</style>"
   ]
  },
  {
   "cell_type": "code",
   "execution_count": null,
   "id": "05c736f5",
   "metadata": {},
   "outputs": [],
   "source": []
  }
 ],
 "metadata": {
  "kernelspec": {
<<<<<<< HEAD
<<<<<<< HEAD
   "display_name": "Python 3 (ipykernel)",
=======
   "display_name": "Python 3.8",
>>>>>>> 7fd94d0 (tooltips added to nanohub gui)
=======
   "display_name": "Python 3.8",
>>>>>>> 7fd94d0be9fe612a98883f012bc0fe37f2586e2d
   "language": "python",
   "name": "python3"
  },
  "language_info": {
   "codemirror_mode": {
    "name": "ipython",
    "version": 3
   },
   "file_extension": ".py",
   "mimetype": "text/x-python",
   "name": "python",
   "nbconvert_exporter": "python",
   "pygments_lexer": "ipython3",
<<<<<<< HEAD
<<<<<<< HEAD
   "version": "3.9.12"
=======
=======
>>>>>>> 7fd94d0be9fe612a98883f012bc0fe37f2586e2d
   "version": "3.8.10"
  },
  "toc": {
   "base_numbering": 1,
   "nav_menu": {},
   "number_sections": true,
   "sideBar": true,
   "skip_h1_title": false,
   "title_cell": "Table of Contents",
   "title_sidebar": "Contents",
   "toc_cell": false,
   "toc_position": {},
   "toc_section_display": true,
   "toc_window_display": false
  },
  "varInspector": {
   "cols": {
    "lenName": 16,
    "lenType": 16,
    "lenVar": 40
   },
   "kernels_config": {
    "python": {
     "delete_cmd_postfix": "",
     "delete_cmd_prefix": "del ",
     "library": "var_list.py",
     "varRefreshCmd": "print(var_dic_list())"
    },
    "r": {
     "delete_cmd_postfix": ") ",
     "delete_cmd_prefix": "rm(",
     "library": "var_list.r",
     "varRefreshCmd": "cat(var_dic_list()) "
    }
   },
   "types_to_exclude": [
    "module",
    "function",
    "builtin_function_or_method",
    "instance",
    "_Feature"
   ],
   "window_display": false
<<<<<<< HEAD
>>>>>>> 7fd94d0 (tooltips added to nanohub gui)
=======
>>>>>>> 7fd94d0be9fe612a98883f012bc0fe37f2586e2d
  }
 },
 "nbformat": 4,
 "nbformat_minor": 5
}
